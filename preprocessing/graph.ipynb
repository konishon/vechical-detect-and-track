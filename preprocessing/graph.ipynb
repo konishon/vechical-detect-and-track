{
 "cells": [
  {
   "cell_type": "code",
   "execution_count": 1,
   "metadata": {},
   "outputs": [],
   "source": [
    "import pandas as pd\n",
    "# from itertools import islice\n",
    "# from string import digits\n",
    "# import matplotlib.pyplot as plt\n",
    "# from google.colab import files"
   ]
  },
  {
   "cell_type": "code",
   "execution_count": 2,
   "metadata": {},
   "outputs": [
    {
     "name": "stdout",
     "output_type": "stream",
     "text": [
      "Requirement already satisfied: pandas in /home/srijana/.virtualenvs/fresh1/lib/python3.7/site-packages (0.25.0)\n",
      "Requirement already satisfied: numpy>=1.13.3 in /home/srijana/.virtualenvs/fresh1/lib/python3.7/site-packages (from pandas) (1.17.0)\n",
      "Requirement already satisfied: python-dateutil>=2.6.1 in /home/srijana/.virtualenvs/fresh1/lib/python3.7/site-packages (from pandas) (2.8.0)\n",
      "Requirement already satisfied: pytz>=2017.2 in /home/srijana/.virtualenvs/fresh1/lib/python3.7/site-packages (from pandas) (2019.1)\n",
      "Requirement already satisfied: six>=1.5 in /home/srijana/.virtualenvs/fresh1/lib/python3.7/site-packages (from python-dateutil>=2.6.1->pandas) (1.12.0)\n"
     ]
    }
   ],
   "source": [
    "!pip install pandas"
   ]
  },
  {
   "cell_type": "code",
   "execution_count": 3,
   "metadata": {},
   "outputs": [],
   "source": [
    "from itertools import islice\n",
    "from string import digits\n",
    "import matplotlib.pyplot as plt\n",
    "# from google.colab import files"
   ]
  },
  {
   "cell_type": "code",
   "execution_count": null,
   "metadata": {},
   "outputs": [],
   "source": []
  },
  {
   "cell_type": "code",
   "execution_count": 4,
   "metadata": {},
   "outputs": [
    {
     "name": "stdout",
     "output_type": "stream",
     "text": [
      "<_io.TextIOWrapper name='annoted/DJI_0001_gt.txt' mode='r' encoding='UTF-8'>\n"
     ]
    }
   ],
   "source": [
    "file = open(\"annoted/DJI_0001_gt.txt\")\n",
    "print(file)\n",
    "file.close()"
   ]
  },
  {
   "cell_type": "code",
   "execution_count": 5,
   "metadata": {},
   "outputs": [],
   "source": [
    "remove_digits = str.maketrans('', '', digits)"
   ]
  },
  {
   "cell_type": "code",
   "execution_count": 6,
   "metadata": {},
   "outputs": [],
   "source": [
    "def chunk(it, size):\n",
    "    it = iter(it)\n",
    "    return iter(lambda: tuple(islice(it, size)), ())"
   ]
  },
  {
   "cell_type": "code",
   "execution_count": 7,
   "metadata": {},
   "outputs": [
    {
     "data": {
      "text/html": [
       "<div>\n",
       "<style scoped>\n",
       "    .dataframe tbody tr th:only-of-type {\n",
       "        vertical-align: middle;\n",
       "    }\n",
       "\n",
       "    .dataframe tbody tr th {\n",
       "        vertical-align: top;\n",
       "    }\n",
       "\n",
       "    .dataframe thead th {\n",
       "        text-align: right;\n",
       "    }\n",
       "</style>\n",
       "<table border=\"1\" class=\"dataframe\">\n",
       "  <thead>\n",
       "    <tr style=\"text-align: right;\">\n",
       "      <th></th>\n",
       "      <th>frame_number</th>\n",
       "      <th>x</th>\n",
       "      <th>y</th>\n",
       "      <th>w</th>\n",
       "      <th>h</th>\n",
       "      <th>label</th>\n",
       "    </tr>\n",
       "  </thead>\n",
       "  <tbody>\n",
       "    <tr>\n",
       "      <th>count</th>\n",
       "      <td>72037</td>\n",
       "      <td>72037</td>\n",
       "      <td>72037</td>\n",
       "      <td>72037</td>\n",
       "      <td>72037</td>\n",
       "      <td>72037</td>\n",
       "    </tr>\n",
       "    <tr>\n",
       "      <th>unique</th>\n",
       "      <td>298</td>\n",
       "      <td>903</td>\n",
       "      <td>641</td>\n",
       "      <td>95</td>\n",
       "      <td>80</td>\n",
       "      <td>6</td>\n",
       "    </tr>\n",
       "    <tr>\n",
       "      <th>top</th>\n",
       "      <td>252</td>\n",
       "      <td>572</td>\n",
       "      <td>0</td>\n",
       "      <td>49</td>\n",
       "      <td>41</td>\n",
       "      <td>Bike</td>\n",
       "    </tr>\n",
       "    <tr>\n",
       "      <th>freq</th>\n",
       "      <td>319</td>\n",
       "      <td>748</td>\n",
       "      <td>810</td>\n",
       "      <td>4944</td>\n",
       "      <td>5855</td>\n",
       "      <td>49829</td>\n",
       "    </tr>\n",
       "  </tbody>\n",
       "</table>\n",
       "</div>"
      ],
      "text/plain": [
       "       frame_number      x      y      w      h  label\n",
       "count         72037  72037  72037  72037  72037  72037\n",
       "unique          298    903    641     95     80      6\n",
       "top             252    572      0     49     41   Bike\n",
       "freq            319    748    810   4944   5855  49829"
      ]
     },
     "execution_count": 7,
     "metadata": {},
     "output_type": "execute_result"
    }
   ],
   "source": [
    "df = []\n",
    "with open(\"annoted/DJI_0001_gt.txt\", 'r') as f:\n",
    "    for line in f:\n",
    "        a_list = line.split(',')\n",
    "        chunked = list(chunk(a_list[2:], 5))\n",
    "        for item in chunked:\n",
    "            df.append({\n",
    "                'frame_number':a_list[0],\n",
    "                'x':item[0],\n",
    "                'y':item[1],\n",
    "                'w':item[2],\n",
    "                'h':item[3],\n",
    "                'label': item[4].strip().translate(remove_digits)\n",
    "                      })\n",
    "df = pd.DataFrame(df) \n",
    "df.describe()\n"
   ]
  },
  {
   "cell_type": "code",
   "execution_count": 8,
   "metadata": {},
   "outputs": [],
   "source": [
    "df.to_csv(\"1.csv\")"
   ]
  },
  {
   "cell_type": "code",
   "execution_count": 9,
   "metadata": {},
   "outputs": [
    {
     "name": "stdout",
     "output_type": "stream",
     "text": [
      "       Unnamed: 0  frame_number     x    y    w    h  label\n",
      "0               0             0   788  234   35   40   Bike\n",
      "1               1             0   854  252   37   38   Bike\n",
      "2               2             0   840  270   31   35   Bike\n",
      "3               3             0   606   58   41   36   Bike\n",
      "4               4             0   619   82   38   40   Bike\n",
      "...           ...           ...   ...  ...  ...  ...    ...\n",
      "21340       21340         16277  1383  961  134  100  Truck\n",
      "21341       21341         16277   707   28   43   49  Tempo\n",
      "21342       21342         16277   211  983   52   42  Tempo\n",
      "21343       21343         16277   910  292   45   35  Tempo\n",
      "21344       21344         16277   848  250   41   45  Tempo\n",
      "\n",
      "[21345 rows x 7 columns]\n"
     ]
    }
   ],
   "source": [
    "df = pd.read_csv('Flight1/2.csv')\n",
    "print(df)"
   ]
  },
  {
   "cell_type": "code",
   "execution_count": 10,
   "metadata": {},
   "outputs": [
    {
     "name": "stdout",
     "output_type": "stream",
     "text": [
      "       Unnamed: 0  frame_number     x    y   w    h  label\n",
      "0               0             0   352    0  30   26   Bike\n",
      "1               1             0   340    0  26   25   Bike\n",
      "2               2             0   331    2  33   31   Bike\n",
      "3               3             0   314    0  33   36   Bike\n",
      "4               4             0   281    0  35   36   Bike\n",
      "...           ...           ...   ...  ...  ..  ...    ...\n",
      "16544       16544          5813  1566  461  55   50  Tempo\n",
      "16545       16545          5813  1207  752  48   56  Tempo\n",
      "16546       16546          5813   596  115  46   43  Tempo\n",
      "16547       16547          5813   712   14  47   47    Car\n",
      "16548       16548          5813   670   18  62  116    Bus\n",
      "\n",
      "[16549 rows x 7 columns]\n"
     ]
    }
   ],
   "source": [
    "df1 = pd.read_csv('Flight1/3.csv')\n",
    "print(df1)"
   ]
  },
  {
   "cell_type": "code",
   "execution_count": 11,
   "metadata": {},
   "outputs": [
    {
     "name": "stdout",
     "output_type": "stream",
     "text": [
      "       Unnamed: 0  frame_number     x    y    w    h      label\n",
      "0               0             0   696  160   26   35       Bike\n",
      "1               1             0   711  124   35   41       Bike\n",
      "2               2             0   471  109   36   30       Bike\n",
      "3               3             0   479  124   39   32       Bike\n",
      "4               4             0   491  134   37   29       Bike\n",
      "...           ...           ...   ...  ...  ...  ...        ...\n",
      "26254       26254          1450  1439  981  152   98      Truck\n",
      "26255       26255          1450   655  322   81  102        Bus\n",
      "26256       26256          1450  1077  792  131  108        Bus\n",
      "26257       26257          1450  1309  869   93   82  MiniTruck\n",
      "26258       26258          1450   885  654  115   85        Bus\n",
      "\n",
      "[26259 rows x 7 columns]\n"
     ]
    }
   ],
   "source": [
    "df2 = pd.read_csv('Flight1/4.csv')\n",
    "print(df2)"
   ]
  },
  {
   "cell_type": "code",
   "execution_count": 12,
   "metadata": {},
   "outputs": [
    {
     "name": "stdout",
     "output_type": "stream",
     "text": [
      "      Unnamed: 0  frame_number     x    y    w    h  label\n",
      "0              0             0   106    0   35   27   Bike\n",
      "1              1             0   121    0   34   36   Bike\n",
      "2              2             0   117    0   45   26   Bike\n",
      "3              3             0   134   38   44   43   Bike\n",
      "4              4             0   147   36   44   36   Bike\n",
      "...          ...           ...   ...  ...  ...  ...    ...\n",
      "7423        7423         16113  1547  982  110   79  Truck\n",
      "7424        7424         16113   602  813  129   91    Bus\n",
      "7425        7425         16113  1370  891  128  107    Bus\n",
      "7426        7426         16113   463  104   72   73    Car\n",
      "7427        7427         16113  1853   29   66   91    Car\n",
      "\n",
      "[7428 rows x 7 columns]\n"
     ]
    }
   ],
   "source": [
    "df3 = pd.read_csv('Flight1/5.csv')\n",
    "print(df3)"
   ]
  },
  {
   "cell_type": "code",
   "execution_count": 13,
   "metadata": {},
   "outputs": [
    {
     "name": "stdout",
     "output_type": "stream",
     "text": [
      "      Unnamed: 0  frame_number     x    y   w   h  label\n",
      "0              0             0   389   21  70  57  Tempo\n",
      "1              1             0   488   52  50  42  Tempo\n",
      "2              2             0   538    3  33  38  Tempo\n",
      "3              3             0   520  122  41  49  Tempo\n",
      "4              4             0   594   62  35  44  Tempo\n",
      "...          ...           ...   ...  ...  ..  ..    ...\n",
      "1063        1063           613  1624   84  82  71    Car\n",
      "1064        1064           613  1661   56  64  49    Car\n",
      "1065        1065           613  1687    4  64  66    Car\n",
      "1066        1066           613  1694   10  61  36    Car\n",
      "1067        1067           613  1764    1  53  42    Car\n",
      "\n",
      "[1068 rows x 7 columns]\n"
     ]
    }
   ],
   "source": [
    "df5 = pd.read_csv('Flight1/7.csv')\n",
    "print(df5)"
   ]
  },
  {
   "cell_type": "code",
   "execution_count": 14,
   "metadata": {},
   "outputs": [
    {
     "name": "stdout",
     "output_type": "stream",
     "text": [
      "       Unnamed: 0  frame_number     x    y   w   h label\n",
      "0               0             0  1675   85  41  42  Bike\n",
      "1               1             0  1670   91  36  38  Bike\n",
      "2               2             0  1655   98  42  37  Bike\n",
      "3               3             0  1644  101  44  45  Bike\n",
      "4               4             0  1628  107  50  41  Bike\n",
      "...           ...           ...   ...  ...  ..  ..   ...\n",
      "72032       72032         15388   273    0  44  24  Bike\n",
      "72033       72033         15388   325   25  30  28  Bike\n",
      "72034       72034         15388   183   31  35  29  Bike\n",
      "72035       72035         15388   286   43  33  27  Bike\n",
      "72036       72036         15388   305   56  28  29  Bike\n",
      "\n",
      "[72037 rows x 7 columns]\n"
     ]
    }
   ],
   "source": [
    "df6 = pd.read_csv('Flight2/1.csv')\n",
    "print(df6)"
   ]
  },
  {
   "cell_type": "code",
   "execution_count": 15,
   "metadata": {},
   "outputs": [],
   "source": [
    "frames = [df, df1, df2, df3, df5, df6]\n",
    "result = pd.concat(frames)"
   ]
  },
  {
   "cell_type": "code",
   "execution_count": 16,
   "metadata": {},
   "outputs": [
    {
     "data": {
      "text/html": [
       "<div>\n",
       "<style scoped>\n",
       "    .dataframe tbody tr th:only-of-type {\n",
       "        vertical-align: middle;\n",
       "    }\n",
       "\n",
       "    .dataframe tbody tr th {\n",
       "        vertical-align: top;\n",
       "    }\n",
       "\n",
       "    .dataframe thead th {\n",
       "        text-align: right;\n",
       "    }\n",
       "</style>\n",
       "<table border=\"1\" class=\"dataframe\">\n",
       "  <thead>\n",
       "    <tr style=\"text-align: right;\">\n",
       "      <th></th>\n",
       "      <th>Unnamed: 0</th>\n",
       "      <th>frame_number</th>\n",
       "      <th>x</th>\n",
       "      <th>y</th>\n",
       "      <th>w</th>\n",
       "      <th>h</th>\n",
       "      <th>label</th>\n",
       "    </tr>\n",
       "  </thead>\n",
       "  <tbody>\n",
       "    <tr>\n",
       "      <th>0</th>\n",
       "      <td>0</td>\n",
       "      <td>0</td>\n",
       "      <td>788</td>\n",
       "      <td>234</td>\n",
       "      <td>35</td>\n",
       "      <td>40</td>\n",
       "      <td>Bike</td>\n",
       "    </tr>\n",
       "    <tr>\n",
       "      <th>1</th>\n",
       "      <td>1</td>\n",
       "      <td>0</td>\n",
       "      <td>854</td>\n",
       "      <td>252</td>\n",
       "      <td>37</td>\n",
       "      <td>38</td>\n",
       "      <td>Bike</td>\n",
       "    </tr>\n",
       "    <tr>\n",
       "      <th>2</th>\n",
       "      <td>2</td>\n",
       "      <td>0</td>\n",
       "      <td>840</td>\n",
       "      <td>270</td>\n",
       "      <td>31</td>\n",
       "      <td>35</td>\n",
       "      <td>Bike</td>\n",
       "    </tr>\n",
       "    <tr>\n",
       "      <th>3</th>\n",
       "      <td>3</td>\n",
       "      <td>0</td>\n",
       "      <td>606</td>\n",
       "      <td>58</td>\n",
       "      <td>41</td>\n",
       "      <td>36</td>\n",
       "      <td>Bike</td>\n",
       "    </tr>\n",
       "    <tr>\n",
       "      <th>4</th>\n",
       "      <td>4</td>\n",
       "      <td>0</td>\n",
       "      <td>619</td>\n",
       "      <td>82</td>\n",
       "      <td>38</td>\n",
       "      <td>40</td>\n",
       "      <td>Bike</td>\n",
       "    </tr>\n",
       "  </tbody>\n",
       "</table>\n",
       "</div>"
      ],
      "text/plain": [
       "   Unnamed: 0  frame_number    x    y   w   h label\n",
       "0           0             0  788  234  35  40  Bike\n",
       "1           1             0  854  252  37  38  Bike\n",
       "2           2             0  840  270  31  35  Bike\n",
       "3           3             0  606   58  41  36  Bike\n",
       "4           4             0  619   82  38  40  Bike"
      ]
     },
     "execution_count": 16,
     "metadata": {},
     "output_type": "execute_result"
    }
   ],
   "source": [
    "result.head()"
   ]
  },
  {
   "cell_type": "code",
   "execution_count": 17,
   "metadata": {},
   "outputs": [
    {
     "data": {
      "text/plain": [
       "<matplotlib.axes._subplots.AxesSubplot at 0x7f0623ad24e0>"
      ]
     },
     "execution_count": 17,
     "metadata": {},
     "output_type": "execute_result"
    },
    {
     "data": {
      "image/png": "[encoded data removed]",
      "text/plain": [
       "<Figure size 432x288 with 1 Axes>"
      ]
     },
     "metadata": {
      "needs_background": "light"
     },
     "output_type": "display_data"
    }
   ],
   "source": [
    "pd.value_counts(result['label']).plot.bar()"
   ]
  },
  {
   "cell_type": "code",
   "execution_count": 18,
   "metadata": {},
   "outputs": [
    {
     "data": {
      "text/plain": [
       "<matplotlib.axes._subplots.AxesSubplot at 0x7f06449157f0>"
      ]
     },
     "execution_count": 18,
     "metadata": {},
     "output_type": "execute_result"
    },
    {
     "data": {
      "image/png": "[encoded data removed]",
      "text/plain": [
       "<Figure size 432x288 with 1 Axes>"
      ]
     },
     "metadata": {},
     "output_type": "display_data"
    }
   ],
   "source": [
    "pd.value_counts(result['label']).plot.pie()"
   ]
  },
  {
   "cell_type": "code",
   "execution_count": 19,
   "metadata": {
    "scrolled": true
   },
   "outputs": [
    {
     "data": {
      "text/plain": [
       "<matplotlib.axes._subplots.AxesSubplot at 0x7f06261756d8>"
      ]
     },
     "execution_count": 19,
     "metadata": {},
     "output_type": "execute_result"
    },
    {
     "data": {
      "image/png": "[encoded data removed]",
      "text/plain": [
       "<Figure size 432x288 with 1 Axes>"
      ]
     },
     "metadata": {
      "needs_background": "light"
     },
     "output_type": "display_data"
    }
   ],
   "source": [
    "pd.value_counts(result['label']).plot.hist(stacked=True, bins=20)"
   ]
  },
  {
   "cell_type": "markdown",
   "metadata": {},
   "source": [
    "# Extra"
   ]
  },
  {
   "cell_type": "code",
   "execution_count": 20,
   "metadata": {},
   "outputs": [
    {
     "name": "stdout",
     "output_type": "stream",
     "text": [
      "Requirement already satisfied: numpy in /home/srijana/.virtualenvs/fresh1/lib/python3.7/site-packages (1.17.0)\n",
      "Requirement already satisfied: keras in /home/srijana/.virtualenvs/fresh1/lib/python3.7/site-packages (2.2.4)\n",
      "Requirement already satisfied: numpy>=1.9.1 in /home/srijana/.virtualenvs/fresh1/lib/python3.7/site-packages (from keras) (1.17.0)\n",
      "Requirement already satisfied: keras-applications>=1.0.6 in /home/srijana/.virtualenvs/fresh1/lib/python3.7/site-packages (from keras) (1.0.8)\n",
      "Requirement already satisfied: h5py in /home/srijana/.virtualenvs/fresh1/lib/python3.7/site-packages (from keras) (2.9.0)\n",
      "Requirement already satisfied: six>=1.9.0 in /home/srijana/.virtualenvs/fresh1/lib/python3.7/site-packages (from keras) (1.12.0)\n",
      "Requirement already satisfied: keras-preprocessing>=1.0.5 in /home/srijana/.virtualenvs/fresh1/lib/python3.7/site-packages (from keras) (1.1.0)\n",
      "Requirement already satisfied: pyyaml in /home/srijana/.virtualenvs/fresh1/lib/python3.7/site-packages (from keras) (5.1.2)\n",
      "Requirement already satisfied: scipy>=0.14 in /home/srijana/.virtualenvs/fresh1/lib/python3.7/site-packages (from keras) (1.3.0)\n"
     ]
    }
   ],
   "source": [
    "!pip install numpy\n",
    "!pip install keras"
   ]
  },
  {
   "cell_type": "code",
   "execution_count": 21,
   "metadata": {},
   "outputs": [
    {
     "name": "stdout",
     "output_type": "stream",
     "text": [
      "       Unnamed: 0  frame_number     x    y    w    h  label\n",
      "0               0             0   788  234   35   40   Bike\n",
      "1               1             0   854  252   37   38   Bike\n",
      "2               2             0   840  270   31   35   Bike\n",
      "3               3             0   606   58   41   36   Bike\n",
      "4               4             0   619   82   38   40   Bike\n",
      "...           ...           ...   ...  ...  ...  ...    ...\n",
      "21340       21340         16277  1383  961  134  100  Truck\n",
      "21341       21341         16277   707   28   43   49  Tempo\n",
      "21342       21342         16277   211  983   52   42  Tempo\n",
      "21343       21343         16277   910  292   45   35  Tempo\n",
      "21344       21344         16277   848  250   41   45  Tempo\n",
      "\n",
      "[21345 rows x 7 columns]\n"
     ]
    }
   ],
   "source": [
    "df = pd.read_csv('Flight1/2.csv')\n",
    "print(df)"
   ]
  },
  {
   "cell_type": "code",
   "execution_count": 22,
   "metadata": {},
   "outputs": [
    {
     "data": {
      "text/html": [
       "<div>\n",
       "<style scoped>\n",
       "    .dataframe tbody tr th:only-of-type {\n",
       "        vertical-align: middle;\n",
       "    }\n",
       "\n",
       "    .dataframe tbody tr th {\n",
       "        vertical-align: top;\n",
       "    }\n",
       "\n",
       "    .dataframe thead th {\n",
       "        text-align: right;\n",
       "    }\n",
       "</style>\n",
       "<table border=\"1\" class=\"dataframe\">\n",
       "  <thead>\n",
       "    <tr style=\"text-align: right;\">\n",
       "      <th></th>\n",
       "      <th>frame_number</th>\n",
       "      <th>x1</th>\n",
       "      <th>y1</th>\n",
       "      <th>x2</th>\n",
       "      <th>y2</th>\n",
       "      <th>label</th>\n",
       "    </tr>\n",
       "  </thead>\n",
       "  <tbody>\n",
       "    <tr>\n",
       "      <th>count</th>\n",
       "      <td>1068</td>\n",
       "      <td>1068</td>\n",
       "      <td>1068</td>\n",
       "      <td>1068</td>\n",
       "      <td>1068</td>\n",
       "      <td>1068</td>\n",
       "    </tr>\n",
       "    <tr>\n",
       "      <th>unique</th>\n",
       "      <td>6</td>\n",
       "      <td>770</td>\n",
       "      <td>658</td>\n",
       "      <td>112</td>\n",
       "      <td>112</td>\n",
       "      <td>6</td>\n",
       "    </tr>\n",
       "    <tr>\n",
       "      <th>top</th>\n",
       "      <td>187</td>\n",
       "      <td>1098</td>\n",
       "      <td>912</td>\n",
       "      <td>34</td>\n",
       "      <td>32</td>\n",
       "      <td>Bike</td>\n",
       "    </tr>\n",
       "    <tr>\n",
       "      <th>freq</th>\n",
       "      <td>252</td>\n",
       "      <td>6</td>\n",
       "      <td>6</td>\n",
       "      <td>40</td>\n",
       "      <td>42</td>\n",
       "      <td>627</td>\n",
       "    </tr>\n",
       "  </tbody>\n",
       "</table>\n",
       "</div>"
      ],
      "text/plain": [
       "       frame_number    x1    y1    x2    y2 label\n",
       "count          1068  1068  1068  1068  1068  1068\n",
       "unique            6   770   658   112   112     6\n",
       "top             187  1098   912    34    32  Bike\n",
       "freq            252     6     6    40    42   627"
      ]
     },
     "execution_count": 22,
     "metadata": {},
     "output_type": "execute_result"
    }
   ],
   "source": [
    "# This one is not accurate , changing into x1, y1,x2, y2 is in another file i.e Vfive \n",
    "\n",
    "df = []\n",
    "with open(\"annoted/DJI_0007_gt.txt\", 'r') as f:\n",
    "    for line in f:\n",
    "        a_list = line.split(',')\n",
    "        chunked = list(chunk(a_list[2:], 5))\n",
    "        for item in chunked:\n",
    "            df.append({\n",
    "                'frame_number':a_list[0],\n",
    "                'x1':item[0],\n",
    "                'y1':item[1],\n",
    "                'x2':item[2],\n",
    "                'y2':item[3],\n",
    "                'label': item[4].strip().translate(remove_digits)\n",
    "                      })\n",
    "df = pd.DataFrame(df) \n",
    "df.describe()\n"
   ]
  },
  {
   "cell_type": "code",
   "execution_count": 23,
   "metadata": {},
   "outputs": [],
   "source": [
    "df.to_csv(\"Seventh.csv\")"
   ]
  },
  {
   "cell_type": "code",
   "execution_count": 24,
   "metadata": {},
   "outputs": [
    {
     "name": "stdout",
     "output_type": "stream",
     "text": [
      "      Unnamed: 0  frame_number    x1   y1  x2  y2  label\n",
      "0              0             0   389   21  70  57  Tempo\n",
      "1              1             0   488   52  50  42  Tempo\n",
      "2              2             0   538    3  33  38  Tempo\n",
      "3              3             0   520  122  41  49  Tempo\n",
      "4              4             0   594   62  35  44  Tempo\n",
      "...          ...           ...   ...  ...  ..  ..    ...\n",
      "1063        1063           613  1624   84  82  71    Car\n",
      "1064        1064           613  1661   56  64  49    Car\n",
      "1065        1065           613  1687    4  64  66    Car\n",
      "1066        1066           613  1694   10  61  36    Car\n",
      "1067        1067           613  1764    1  53  42    Car\n",
      "\n",
      "[1068 rows x 7 columns]\n"
     ]
    }
   ],
   "source": [
    "df8 = pd.read_csv('Seventh.csv')\n",
    "print(df8)"
   ]
  },
  {
   "cell_type": "code",
   "execution_count": null,
   "metadata": {},
   "outputs": [],
   "source": []
  }
 ],
 "metadata": {
  "kernelspec": {
   "display_name": "Python 3",
   "language": "python",
   "name": "python3"
  },
  "language_info": {
   "codemirror_mode": {
    "name": "ipython",
    "version": 3
   },
   "file_extension": ".py",
   "mimetype": "text/x-python",
   "name": "python",
   "nbconvert_exporter": "python",
   "pygments_lexer": "ipython3",
   "version": "3.7.3"
  }
 },
 "nbformat": 4,
 "nbformat_minor": 2
}
