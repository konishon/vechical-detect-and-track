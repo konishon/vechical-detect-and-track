{
 "cells": [
  {
   "cell_type": "code",
   "execution_count": 1,
   "metadata": {},
   "outputs": [
    {
     "data": {
      "text/plain": [
       "'/home/nishon/Projects/jupyter-notebook/retina-net-training'"
      ]
     },
     "execution_count": 1,
     "metadata": {},
     "output_type": "execute_result"
    }
   ],
   "source": [
    "import pandas as pd\n",
    "from itertools import islice\n",
    "from string import digits\n",
    "import matplotlib.pyplot as plt\n",
    "import numpy as np\n",
    "import os\n",
    "\n",
    "os.getcwd()"
   ]
  },
  {
   "cell_type": "markdown",
   "metadata": {},
   "source": [
    "# 1. Load csv generated from annotation tool\n",
    "\n",
    "**Exported data format from DarkLabel**\n",
    "```\n",
    "frame,total label apperence, [ x, y, w, h, label ]`\n",
    "```\n",
    "\n",
    "**The format we prefer**\n",
    "```\n",
    "frame,x1,y1,x2,y2,label`\n",
    "```\n"
   ]
  },
  {
   "cell_type": "code",
   "execution_count": 2,
   "metadata": {},
   "outputs": [
    {
     "name": "stdout",
     "output_type": "stream",
     "text": [
      "DJI_0005_gt.txt\n",
      "imgs/{0}_{1}.jpg\n"
     ]
    }
   ],
   "source": [
    "video_name = \"DJI_0005\"\n",
    "path_to_data = '{0}_gt.txt'.format(video_name)\n",
    "formatted_image_name = \"imgs/{0}_{1}.jpg\";\n",
    "\n",
    "print(path_to_data)\n",
    "print(formatted_image_name)"
   ]
  },
  {
   "cell_type": "code",
   "execution_count": 3,
   "metadata": {},
   "outputs": [],
   "source": [
    "remove_digits = str.maketrans('', '', digits)\n",
    "## breaks a long list into list of provided chucks(size)\n",
    "def chunk(it, size):\n",
    "    it = iter(it)\n",
    "    return iter(lambda: tuple(islice(it, size)), ())"
   ]
  },
  {
   "cell_type": "code",
   "execution_count": 4,
   "metadata": {},
   "outputs": [],
   "source": [
    "#https://github.com/facebookresearch/Detectron/blob/master/detectron/utils/boxes.py\n",
    "def xywh_to_xyxy(xywh):\n",
    "    \"\"\"Convert [x1 y1 w h] box format to [x1 y1 x2 y2] format.\"\"\"\n",
    "    if isinstance(xywh, (list, tuple)):\n",
    "        # Single box given as a list of coordinates\n",
    "        assert len(xywh) == 4\n",
    "        x1, y1 = xywh[0], xywh[1]\n",
    "        x2 = x1 + np.maximum(0., xywh[2] - 1.)\n",
    "        y2 = y1 + np.maximum(0., xywh[3] - 1.)\n",
    "        return (x1, y1, x2, y2)\n",
    "    elif isinstance(xywh, np.ndarray):\n",
    "        # Multiple boxes given as a 2D ndarray\n",
    "        return np.hstack(\n",
    "            (xywh[:, 0:2], xywh[:, 0:2] + np.maximum(0, xywh[:, 2:4] - 1))\n",
    "        )\n",
    "    else:\n",
    "        raise TypeError('Argument xywh must be a list, tuple, or numpy array.')\n",
    "\n"
   ]
  },
  {
   "cell_type": "code",
   "execution_count": 5,
   "metadata": {},
   "outputs": [
    {
     "name": "stdout",
     "output_type": "stream",
     "text": [
      "AxesSubplot(0.125,0.125;0.775x0.755)\n"
     ]
    },
    {
     "data": {
      "text/plain": [
       "Index(['file_path', 'label', 'x1', 'x2', 'y1', 'y2'], dtype='object')"
      ]
     },
     "execution_count": 5,
     "metadata": {},
     "output_type": "execute_result"
    },
    {
     "data": {
      "image/png": "[encoded data removed]",
      "text/plain": [
       "<Figure size 432x288 with 1 Axes>"
      ]
     },
     "metadata": {},
     "output_type": "display_data"
    }
   ],
   "source": [
    "df = []\n",
    "with open(path_to_data, 'r') as f:\n",
    "    for line in f:\n",
    "        a_list = line.split(',')\n",
    "        chunked = list(chunk(a_list[2:], 5))\n",
    "        for item in chunked:\n",
    "            (x1,y1,x2,y2) = xywh_to_xyxy([int(item[0]),int(item[1]),int(item[2]),int(item[3])])\n",
    "        \n",
    "            df.append({\n",
    "                'file_path':formatted_image_name.format(video_name,a_list[0]),\n",
    "                'x1':int(x1),\n",
    "                'y1':int(y1),\n",
    "                'x2':int(x2),\n",
    "                'y2':int(y2),\n",
    "                'label': item[4].strip().translate(remove_digits)\n",
    "                      })\n",
    "            \n",
    "            \n",
    "df = pd.DataFrame(df) \n",
    "\n",
    "\n",
    "#plot\n",
    "print(pd.value_counts(df['label']).plot.bar())\n",
    "len(df.groupby('file_path'))\n",
    "df.columns\n"
   ]
  },
  {
   "cell_type": "code",
   "execution_count": 6,
   "metadata": {},
   "outputs": [
    {
     "data": {
      "text/html": [
       "<div>\n",
       "<style scoped>\n",
       "    .dataframe tbody tr th:only-of-type {\n",
       "        vertical-align: middle;\n",
       "    }\n",
       "\n",
       "    .dataframe tbody tr th {\n",
       "        vertical-align: top;\n",
       "    }\n",
       "\n",
       "    .dataframe thead th {\n",
       "        text-align: right;\n",
       "    }\n",
       "</style>\n",
       "<table border=\"1\" class=\"dataframe\">\n",
       "  <thead>\n",
       "    <tr style=\"text-align: right;\">\n",
       "      <th></th>\n",
       "      <th>file_path</th>\n",
       "      <th>x1</th>\n",
       "      <th>x2</th>\n",
       "      <th>y1</th>\n",
       "      <th>y2</th>\n",
       "    </tr>\n",
       "    <tr>\n",
       "      <th>label</th>\n",
       "      <th></th>\n",
       "      <th></th>\n",
       "      <th></th>\n",
       "      <th></th>\n",
       "      <th></th>\n",
       "    </tr>\n",
       "  </thead>\n",
       "  <tbody>\n",
       "    <tr>\n",
       "      <th>Bike</th>\n",
       "      <td>True</td>\n",
       "      <td>True</td>\n",
       "      <td>True</td>\n",
       "      <td>False</td>\n",
       "      <td>True</td>\n",
       "    </tr>\n",
       "    <tr>\n",
       "      <th>Bus</th>\n",
       "      <td>True</td>\n",
       "      <td>True</td>\n",
       "      <td>True</td>\n",
       "      <td>True</td>\n",
       "      <td>True</td>\n",
       "    </tr>\n",
       "    <tr>\n",
       "      <th>Car</th>\n",
       "      <td>True</td>\n",
       "      <td>False</td>\n",
       "      <td>True</td>\n",
       "      <td>False</td>\n",
       "      <td>True</td>\n",
       "    </tr>\n",
       "    <tr>\n",
       "      <th>MiniTruck</th>\n",
       "      <td>True</td>\n",
       "      <td>True</td>\n",
       "      <td>True</td>\n",
       "      <td>False</td>\n",
       "      <td>True</td>\n",
       "    </tr>\n",
       "    <tr>\n",
       "      <th>Tempo</th>\n",
       "      <td>True</td>\n",
       "      <td>True</td>\n",
       "      <td>True</td>\n",
       "      <td>False</td>\n",
       "      <td>True</td>\n",
       "    </tr>\n",
       "    <tr>\n",
       "      <th>Truck</th>\n",
       "      <td>True</td>\n",
       "      <td>True</td>\n",
       "      <td>True</td>\n",
       "      <td>False</td>\n",
       "      <td>True</td>\n",
       "    </tr>\n",
       "  </tbody>\n",
       "</table>\n",
       "</div>"
      ],
      "text/plain": [
       "           file_path     x1    x2     y1    y2\n",
       "label                                         \n",
       "Bike            True   True  True  False  True\n",
       "Bus             True   True  True   True  True\n",
       "Car             True  False  True  False  True\n",
       "MiniTruck       True   True  True  False  True\n",
       "Tempo           True   True  True  False  True\n",
       "Truck           True   True  True  False  True"
      ]
     },
     "execution_count": 6,
     "metadata": {},
     "output_type": "execute_result"
    }
   ],
   "source": [
    "classes = df.groupby('label')\n",
    "classes.all()"
   ]
  },
  {
   "cell_type": "code",
   "execution_count": 7,
   "metadata": {},
   "outputs": [
    {
     "data": {
      "text/plain": [
       "file_path    object\n",
       "label        object\n",
       "x1            int64\n",
       "x2            int64\n",
       "y1            int64\n",
       "y2            int64\n",
       "dtype: object"
      ]
     },
     "execution_count": 7,
     "metadata": {},
     "output_type": "execute_result"
    }
   ],
   "source": [
    "df.dtypes"
   ]
  },
  {
   "cell_type": "markdown",
   "metadata": {},
   "source": [
    "# 2. Check if any duplicate data"
   ]
  },
  {
   "cell_type": "code",
   "execution_count": 8,
   "metadata": {},
   "outputs": [
    {
     "name": "stdout",
     "output_type": "stream",
     "text": [
      "Duplicate Rows except first occurrence based on all columns are :\n",
      "Empty DataFrame\n",
      "Columns: [file_path, label, x1, x2, y1, y2]\n",
      "Index: []\n"
     ]
    }
   ],
   "source": [
    "duplicate_rows = df[df.duplicated()]\n",
    " \n",
    "print(\"Duplicate Rows except first occurrence based on all columns are :\")\n",
    "print(duplicate_rows)"
   ]
  },
  {
   "cell_type": "markdown",
   "metadata": {},
   "source": [
    "# 3. Validate frame and image mapping"
   ]
  },
  {
   "cell_type": "code",
   "execution_count": 9,
   "metadata": {},
   "outputs": [],
   "source": [
    "import cv2"
   ]
  },
  {
   "cell_type": "code",
   "execution_count": 10,
   "metadata": {},
   "outputs": [],
   "source": [
    "def get_frame_no(file_name):\n",
    "    return file_name.split(\"-\")[1].split(\".\")[0]"
   ]
  },
  {
   "cell_type": "markdown",
   "metadata": {},
   "source": [
    "### 3.1 Get random photo"
   ]
  },
  {
   "cell_type": "code",
   "execution_count": 11,
   "metadata": {},
   "outputs": [
    {
     "name": "stdout",
     "output_type": "stream",
     "text": [
      "imgs/DJI_0005_242.jpg\n"
     ]
    },
    {
     "data": {
      "text/plain": [
       "False"
      ]
     },
     "execution_count": 11,
     "metadata": {},
     "output_type": "execute_result"
    }
   ],
   "source": [
    "seed_row = df.sample(n=1,replace=True)\n",
    "image_path = seed_row['file_path'].values[0]\n",
    "random_row = df[df.file_path == image_path]\n",
    "print(image_path)\n",
    "os.path.exists(image_path)"
   ]
  },
  {
   "cell_type": "markdown",
   "metadata": {},
   "source": [
    "### 3.2 Get random photo (Alternative approach)"
   ]
  },
  {
   "cell_type": "code",
   "execution_count": 12,
   "metadata": {},
   "outputs": [
    {
     "name": "stdout",
     "output_type": "stream",
     "text": [
      "5319\n",
      "file_path    imgs/DJI_0005_5444.jpg\n",
      "label                         Tempo\n",
      "x1                              652\n",
      "x2                              698\n",
      "y1                              518\n",
      "y2                              567\n",
      "Name: 5319, dtype: object\n",
      "imgs/DJI_0005_5444.jpg\n"
     ]
    }
   ],
   "source": [
    "from random import randrange\n",
    "random_index = randrange(len(df))\n",
    "image_path = df.iloc[random_index]['file_path']\n",
    "\n",
    "print(random_index)\n",
    "print(df.iloc[random_index])\n",
    "print(image_path)"
   ]
  },
  {
   "cell_type": "markdown",
   "metadata": {},
   "source": [
    "## Get all classes from that photo"
   ]
  },
  {
   "cell_type": "code",
   "execution_count": 13,
   "metadata": {},
   "outputs": [
    {
     "name": "stdout",
     "output_type": "stream",
     "text": [
      "99\n"
     ]
    }
   ],
   "source": [
    "df_to_plot = df[df.file_path==image_path]\n",
    "df_to_plot.groupby('label')\n",
    "print(len(df_to_plot))"
   ]
  },
  {
   "cell_type": "code",
   "execution_count": 14,
   "metadata": {},
   "outputs": [],
   "source": [
    "cv2.namedWindow('image', cv2.WINDOW_FULLSCREEN)\n",
    "img = cv2.imread(\"data/\"+image_path, 1)\n",
    "\n",
    "for row in df_to_plot.itertuples():\n",
    "    cv2.rectangle(img, (int(row.x1), int(row.y1)), (int(row.x2), int(row.y2)), (255, 0, 0), 2)\n",
    "\n",
    "cv2.imshow('image', img)\n",
    "cv2.waitKey(0)\n",
    "cv2.destroyAllWindows()"
   ]
  },
  {
   "cell_type": "markdown",
   "metadata": {},
   "source": [
    "# 4 Train test split"
   ]
  },
  {
   "cell_type": "code",
   "execution_count": 15,
   "metadata": {},
   "outputs": [
    {
     "name": "stdout",
     "output_type": "stream",
     "text": [
      "4456\n",
      "5942\n",
      "1486\n"
     ]
    }
   ],
   "source": [
    "from sklearn.model_selection import train_test_split\n",
    "\n",
    "train, test = train_test_split(df, test_size=0.4,random_state=1)\n",
    "test,val = train_test_split(df,test_size=0.2)\n",
    "\n",
    "print(len(train))\n",
    "print(len(test))\n",
    "print(len(val))\n"
   ]
  },
  {
   "cell_type": "code",
   "execution_count": 16,
   "metadata": {},
   "outputs": [
    {
     "name": "stdout",
     "output_type": "stream",
     "text": [
      "AxesSubplot(0.125,0.125;0.775x0.755)\n",
      "Index(['file_path', 'label', 'x1', 'x2', 'y1', 'y2'], dtype='object')\n"
     ]
    },
    {
     "data": {
      "image/png": "[encoded data removed]",
      "text/plain": [
       "<Figure size 432x288 with 1 Axes>"
      ]
     },
     "metadata": {},
     "output_type": "display_data"
    }
   ],
   "source": [
    "print(pd.value_counts(train['label']).plot.bar())\n",
    "print(train.columns)"
   ]
  },
  {
   "cell_type": "code",
   "execution_count": 17,
   "metadata": {},
   "outputs": [
    {
     "name": "stdout",
     "output_type": "stream",
     "text": [
      "AxesSubplot(0.125,0.125;0.775x0.755)\n"
     ]
    },
    {
     "data": {
      "image/png": "[encoded data removed]",
      "text/plain": [
       "<Figure size 432x288 with 1 Axes>"
      ]
     },
     "metadata": {},
     "output_type": "display_data"
    }
   ],
   "source": [
    "print(pd.value_counts(test['label']).plot.bar())"
   ]
  },
  {
   "cell_type": "code",
   "execution_count": 18,
   "metadata": {},
   "outputs": [
    {
     "name": "stdout",
     "output_type": "stream",
     "text": [
      "AxesSubplot(0.125,0.125;0.775x0.755)\n"
     ]
    },
    {
     "data": {
      "image/png": "[encoded data removed]",
      "text/plain": [
       "<Figure size 432x288 with 1 Axes>"
      ]
     },
     "metadata": {},
     "output_type": "display_data"
    }
   ],
   "source": [
    "print(pd.value_counts(val['label']).plot.bar())"
   ]
  },
  {
   "cell_type": "code",
   "execution_count": 19,
   "metadata": {},
   "outputs": [],
   "source": [
    "def rearrange(df):\n",
    "    return df.reindex(columns=['file_path', 'x1', 'y1', 'x2', 'y2', 'label'])"
   ]
  },
  {
   "cell_type": "code",
   "execution_count": 20,
   "metadata": {},
   "outputs": [],
   "source": [
    "rearrange(train).to_csv(\"data/train.csv\",header=False,index=False)\n",
    "rearrange(train).to_csv(\"data/test.csv\",header=False,index=False)\n",
    "rearrange(train).to_csv(\"data/val.csv\",header=False,index=False)"
   ]
  },
  {
   "cell_type": "code",
   "execution_count": 21,
   "metadata": {},
   "outputs": [
    {
     "data": {
      "text/html": [
       "<div>\n",
       "<style scoped>\n",
       "    .dataframe tbody tr th:only-of-type {\n",
       "        vertical-align: middle;\n",
       "    }\n",
       "\n",
       "    .dataframe tbody tr th {\n",
       "        vertical-align: top;\n",
       "    }\n",
       "\n",
       "    .dataframe thead th {\n",
       "        text-align: right;\n",
       "    }\n",
       "</style>\n",
       "<table border=\"1\" class=\"dataframe\">\n",
       "  <thead>\n",
       "    <tr style=\"text-align: right;\">\n",
       "      <th></th>\n",
       "      <th>imgs/DJI_0005_247.jpg</th>\n",
       "      <th>1191</th>\n",
       "      <th>865</th>\n",
       "      <th>1226</th>\n",
       "      <th>900</th>\n",
       "      <th>Bike</th>\n",
       "    </tr>\n",
       "  </thead>\n",
       "  <tbody>\n",
       "    <tr>\n",
       "      <th>0</th>\n",
       "      <td>imgs/DJI_0005_5430.jpg</td>\n",
       "      <td>455</td>\n",
       "      <td>53</td>\n",
       "      <td>497</td>\n",
       "      <td>103</td>\n",
       "      <td>Tempo</td>\n",
       "    </tr>\n",
       "    <tr>\n",
       "      <th>1</th>\n",
       "      <td>imgs/DJI_0005_1182.jpg</td>\n",
       "      <td>444</td>\n",
       "      <td>90</td>\n",
       "      <td>479</td>\n",
       "      <td>118</td>\n",
       "      <td>Bike</td>\n",
       "    </tr>\n",
       "    <tr>\n",
       "      <th>2</th>\n",
       "      <td>imgs/DJI_0005_5435.jpg</td>\n",
       "      <td>1036</td>\n",
       "      <td>600</td>\n",
       "      <td>1092</td>\n",
       "      <td>671</td>\n",
       "      <td>Car</td>\n",
       "    </tr>\n",
       "    <tr>\n",
       "      <th>3</th>\n",
       "      <td>imgs/DJI_0005_1184.jpg</td>\n",
       "      <td>831</td>\n",
       "      <td>615</td>\n",
       "      <td>871</td>\n",
       "      <td>652</td>\n",
       "      <td>Bike</td>\n",
       "    </tr>\n",
       "    <tr>\n",
       "      <th>4</th>\n",
       "      <td>imgs/DJI_0005_5429.jpg</td>\n",
       "      <td>1012</td>\n",
       "      <td>459</td>\n",
       "      <td>1045</td>\n",
       "      <td>492</td>\n",
       "      <td>Bike</td>\n",
       "    </tr>\n",
       "  </tbody>\n",
       "</table>\n",
       "</div>"
      ],
      "text/plain": [
       "    imgs/DJI_0005_247.jpg  1191  865  1226  900   Bike\n",
       "0  imgs/DJI_0005_5430.jpg   455   53   497  103  Tempo\n",
       "1  imgs/DJI_0005_1182.jpg   444   90   479  118   Bike\n",
       "2  imgs/DJI_0005_5435.jpg  1036  600  1092  671    Car\n",
       "3  imgs/DJI_0005_1184.jpg   831  615   871  652   Bike\n",
       "4  imgs/DJI_0005_5429.jpg  1012  459  1045  492   Bike"
      ]
     },
     "execution_count": 21,
     "metadata": {},
     "output_type": "execute_result"
    }
   ],
   "source": [
    "import pandas as pd\n",
    "pd.read_csv('data/train.csv').head()"
   ]
  },
  {
   "cell_type": "code",
   "execution_count": 1,
   "metadata": {},
   "outputs": [
    {
     "name": "stdout",
     "output_type": "stream",
     "text": [
      "4456\n"
     ]
    }
   ],
   "source": [
    "file = open(\"data/train.csv\")\n",
    "numline = len(file.readlines())\n",
    "print (numline)"
   ]
  },
  {
   "cell_type": "code",
   "execution_count": 2,
   "metadata": {},
   "outputs": [
    {
     "name": "stdout",
     "output_type": "stream",
     "text": [
      "Using TensorFlow backend.\n",
      "usage: train.py [-h]\n",
      "                [--snapshot SNAPSHOT | --imagenet-weights | --weights WEIGHTS | --no-weights]\n",
      "                [--backbone BACKBONE] [--batch-size BATCH_SIZE] [--gpu GPU]\n",
      "                [--multi-gpu MULTI_GPU] [--multi-gpu-force] [--epochs EPOCHS]\n",
      "                [--steps STEPS] [--lr LR] [--snapshot-path SNAPSHOT_PATH]\n",
      "                [--tensorboard-dir TENSORBOARD_DIR] [--no-snapshots]\n",
      "                [--no-evaluation] [--freeze-backbone] [--random-transform]\n",
      "                [--image-min-side IMAGE_MIN_SIDE]\n",
      "                [--image-max-side IMAGE_MAX_SIDE] [--config CONFIG]\n",
      "                [--weighted-average] [--workers WORKERS]\n",
      "                [--max-queue-size MAX_QUEUE_SIZE]\n",
      "                {coco,pascal,kitti,oid,csv} ...\n",
      "\n",
      "Simple training script for training a RetinaNet network.\n",
      "\n",
      "positional arguments:\n",
      "  {coco,pascal,kitti,oid,csv}\n",
      "                        Arguments for specific dataset types.\n",
      "\n",
      "optional arguments:\n",
      "  -h, --help            show this help message and exit\n",
      "  --snapshot SNAPSHOT   Resume training from a snapshot.\n",
      "  --imagenet-weights    Initialize the model with pretrained imagenet weights.\n",
      "                        This is the default behaviour.\n",
      "  --weights WEIGHTS     Initialize the model with weights from a file.\n",
      "  --no-weights          Don't initialize the model with any weights.\n",
      "  --backbone BACKBONE   Backbone model used by retinanet.\n",
      "  --batch-size BATCH_SIZE\n",
      "                        Size of the batches.\n",
      "  --gpu GPU             Id of the GPU to use (as reported by nvidia-smi).\n",
      "  --multi-gpu MULTI_GPU\n",
      "                        Number of GPUs to use for parallel processing.\n",
      "  --multi-gpu-force     Extra flag needed to enable (experimental) multi-gpu\n",
      "                        support.\n",
      "  --epochs EPOCHS       Number of epochs to train.\n",
      "  --steps STEPS         Number of steps per epoch.\n",
      "  --lr LR               Learning rate.\n",
      "  --snapshot-path SNAPSHOT_PATH\n",
      "                        Path to store snapshots of models during training\n",
      "                        (defaults to './snapshots')\n",
      "  --tensorboard-dir TENSORBOARD_DIR\n",
      "                        Log directory for Tensorboard output\n",
      "  --no-snapshots        Disable saving snapshots.\n",
      "  --no-evaluation       Disable per epoch evaluation.\n",
      "  --freeze-backbone     Freeze training of backbone layers.\n",
      "  --random-transform    Randomly transform image and annotations.\n",
      "  --image-min-side IMAGE_MIN_SIDE\n",
      "                        Rescale the image so the smallest side is min_side.\n",
      "  --image-max-side IMAGE_MAX_SIDE\n",
      "                        Rescale the image if the largest side is larger than\n",
      "                        max_side.\n",
      "  --config CONFIG       Path to a configuration parameters .ini file.\n",
      "  --weighted-average    Compute the mAP using the weighted average of\n",
      "                        precisions among classes.\n",
      "  --workers WORKERS     Number of multiprocessing workers. To disable\n",
      "                        multiprocessing, set workers to 0\n",
      "  --max-queue-size MAX_QUEUE_SIZE\n",
      "                        Queue length for multiprocessing workers in fit\n",
      "                        generator.\n"
     ]
    }
   ],
   "source": [
    "!aerial_pedestrian_detection/keras_retinanet/bin/train.py -h"
   ]
  },
  {
   "cell_type": "code",
   "execution_count": 7,
   "metadata": {},
   "outputs": [
    {
     "name": "stdout",
     "output_type": "stream",
     "text": [
      "Using TensorFlow backend.\n",
      "aerial_pedestrian_detection/keras_retinanet/bin/train.py:353: UserWarning: Using experimental backbone mobilenet224_1.0. Only resnet50 has been properly tested.\n",
      "  warnings.warn('Using experimental backbone {}. Only resnet50 has been properly tested.'.format(parsed_args.backbone))\n",
      "WARNING: Logging before flag parsing goes to stderr.\n",
      "W0808 17:17:03.351084 140605350999872 deprecation_wrapper.py:119] From aerial_pedestrian_detection/keras_retinanet/bin/train.py:66: The name tf.ConfigProto is deprecated. Please use tf.compat.v1.ConfigProto instead.\n",
      "\n",
      "W0808 17:17:03.351236 140605350999872 deprecation_wrapper.py:119] From aerial_pedestrian_detection/keras_retinanet/bin/train.py:68: The name tf.Session is deprecated. Please use tf.compat.v1.Session instead.\n",
      "\n",
      "2019-08-08 17:17:03.357905: I tensorflow/core/platform/cpu_feature_guard.cc:142] Your CPU supports instructions that this TensorFlow binary was not compiled to use: AVX2 FMA\n",
      "2019-08-08 17:17:03.380255: I tensorflow/core/platform/profile_utils/cpu_utils.cc:94] CPU Frequency: 2208000000 Hz\n",
      "2019-08-08 17:17:03.381204: I tensorflow/compiler/xla/service/service.cc:168] XLA service 0x559695bddc20 executing computations on platform Host. Devices:\n",
      "2019-08-08 17:17:03.381221: I tensorflow/compiler/xla/service/service.cc:175]   StreamExecutor device (0): <undefined>, <undefined>\n",
      "Creating model, this may take a second...\n",
      "W0808 17:17:03.433238 140605350999872 deprecation_wrapper.py:119] From /home/nishon/anaconda3/envs/tf_gpu-2/lib/python3.7/site-packages/keras/backend/tensorflow_backend.py:74: The name tf.get_default_graph is deprecated. Please use tf.compat.v1.get_default_graph instead.\n",
      "\n",
      "W0808 17:17:03.433373 140605350999872 deprecation_wrapper.py:119] From /home/nishon/anaconda3/envs/tf_gpu-2/lib/python3.7/site-packages/keras/backend/tensorflow_backend.py:517: The name tf.placeholder is deprecated. Please use tf.compat.v1.placeholder instead.\n",
      "\n",
      "W0808 17:17:03.437700 140605350999872 deprecation_wrapper.py:119] From /home/nishon/anaconda3/envs/tf_gpu-2/lib/python3.7/site-packages/keras/backend/tensorflow_backend.py:4138: The name tf.random_uniform is deprecated. Please use tf.random.uniform instead.\n",
      "\n",
      "2019-08-08 17:17:03.472873: W tensorflow/compiler/jit/mark_for_compilation_pass.cc:1412] (One-time warning): Not using XLA:CPU for cluster because envvar TF_XLA_FLAGS=--tf_xla_cpu_global_jit was not set.  If you want XLA:CPU, either set that envvar, or use experimental_jit_scope to enable XLA:CPU.  To confirm that XLA is active, pass --vmodule=xla_compilation_cache=1 (as a proper command-line flag, not via TF_XLA_FLAGS) or set the envvar XLA_FLAGS=--xla_hlo_profile.\n",
      "W0808 17:17:03.475543 140605350999872 deprecation_wrapper.py:119] From /home/nishon/anaconda3/envs/tf_gpu-2/lib/python3.7/site-packages/keras/backend/tensorflow_backend.py:1834: The name tf.nn.fused_batch_norm is deprecated. Please use tf.compat.v1.nn.fused_batch_norm instead.\n",
      "\n",
      "W0808 17:17:05.066796 140605350999872 deprecation_wrapper.py:119] From aerial_pedestrian_detection/keras_retinanet/bin/../../keras_retinanet/backend/tensorflow_backend.py:68: The name tf.image.resize_images is deprecated. Please use tf.image.resize instead.\n",
      "\n",
      "/home/nishon/anaconda3/envs/tf_gpu-2/lib/python3.7/site-packages/keras/engine/saving.py:1140: UserWarning: Skipping loading of weights for layer conv1 due to mismatch in shape ((3, 3, 3, 32) vs (64, 3, 7, 7)).\n",
      "  weight_values[i].shape))\n",
      "/home/nishon/anaconda3/envs/tf_gpu-2/lib/python3.7/site-packages/keras/engine/saving.py:1140: UserWarning: Skipping loading of weights for layer C5_reduced due to mismatch in shape ((1, 1, 1024, 256) vs (256, 2048, 1, 1)).\n",
      "  weight_values[i].shape))\n",
      "/home/nishon/anaconda3/envs/tf_gpu-2/lib/python3.7/site-packages/keras/engine/saving.py:1140: UserWarning: Skipping loading of weights for layer C4_reduced due to mismatch in shape ((1, 1, 512, 256) vs (256, 1024, 1, 1)).\n",
      "  weight_values[i].shape))\n",
      "/home/nishon/anaconda3/envs/tf_gpu-2/lib/python3.7/site-packages/keras/engine/saving.py:1140: UserWarning: Skipping loading of weights for layer C3_reduced due to mismatch in shape ((1, 1, 256, 256) vs (256, 512, 1, 1)).\n",
      "  weight_values[i].shape))\n",
      "/home/nishon/anaconda3/envs/tf_gpu-2/lib/python3.7/site-packages/keras/engine/saving.py:1140: UserWarning: Skipping loading of weights for layer P6 due to mismatch in shape ((3, 3, 1024, 256) vs (256, 2048, 3, 3)).\n",
      "  weight_values[i].shape))\n",
      "/home/nishon/anaconda3/envs/tf_gpu-2/lib/python3.7/site-packages/keras/engine/saving.py:1140: UserWarning: Skipping loading of weights for layer classification_submodel due to mismatch in shape ((3, 3, 256, 54) vs (720, 256, 3, 3)).\n",
      "  weight_values[i].shape))\n",
      "/home/nishon/anaconda3/envs/tf_gpu-2/lib/python3.7/site-packages/keras/engine/saving.py:1140: UserWarning: Skipping loading of weights for layer classification_submodel due to mismatch in shape ((54,) vs (720,)).\n",
      "  weight_values[i].shape))\n",
      "W0808 17:17:06.633024 140605350999872 deprecation.py:323] From aerial_pedestrian_detection/keras_retinanet/bin/../../keras_retinanet/backend/tensorflow_backend.py:104: add_dispatch_support.<locals>.wrapper (from tensorflow.python.ops.array_ops) is deprecated and will be removed in a future version.\n",
      "Instructions for updating:\n",
      "Use tf.where in 2.0, which has the same broadcast rule as np.where\n",
      "W0808 17:17:06.778317 140605350999872 deprecation_wrapper.py:119] From /home/nishon/anaconda3/envs/tf_gpu-2/lib/python3.7/site-packages/keras/optimizers.py:790: The name tf.train.Optimizer is deprecated. Please use tf.compat.v1.train.Optimizer instead.\n",
      "\n",
      "__________________________________________________________________________________________________\n",
      "Layer (type)                    Output Shape         Param #     Connected to                     \n",
      "==================================================================================================\n",
      "input_1 (InputLayer)            (None, None, None, 3 0                                            \n",
      "__________________________________________________________________________________________________\n",
      "conv1_pad (ZeroPadding2D)       (None, None, None, 3 0           input_1[0][0]                    \n",
      "__________________________________________________________________________________________________\n",
      "conv1 (Conv2D)                  (None, None, None, 3 864         conv1_pad[0][0]                  \n",
      "__________________________________________________________________________________________________\n",
      "conv1_bn (BatchNormalization)   (None, None, None, 3 128         conv1[0][0]                      \n",
      "__________________________________________________________________________________________________\n",
      "conv1_relu (ReLU)               (None, None, None, 3 0           conv1_bn[0][0]                   \n",
      "__________________________________________________________________________________________________\n",
      "conv_dw_1 (DepthwiseConv2D)     (None, None, None, 3 288         conv1_relu[0][0]                 \n",
      "__________________________________________________________________________________________________\n",
      "conv_dw_1_bn (BatchNormalizatio (None, None, None, 3 128         conv_dw_1[0][0]                  \n",
      "__________________________________________________________________________________________________\n",
      "conv_dw_1_relu (ReLU)           (None, None, None, 3 0           conv_dw_1_bn[0][0]               \n",
      "__________________________________________________________________________________________________\n",
      "conv_pw_1 (Conv2D)              (None, None, None, 6 2048        conv_dw_1_relu[0][0]             \n",
      "__________________________________________________________________________________________________\n",
      "conv_pw_1_bn (BatchNormalizatio (None, None, None, 6 256         conv_pw_1[0][0]                  \n",
      "__________________________________________________________________________________________________\n",
      "conv_pw_1_relu (ReLU)           (None, None, None, 6 0           conv_pw_1_bn[0][0]               \n",
      "__________________________________________________________________________________________________\n",
      "conv_pad_2 (ZeroPadding2D)      (None, None, None, 6 0           conv_pw_1_relu[0][0]             \n",
      "__________________________________________________________________________________________________\n",
      "conv_dw_2 (DepthwiseConv2D)     (None, None, None, 6 576         conv_pad_2[0][0]                 \n",
      "__________________________________________________________________________________________________\n",
      "conv_dw_2_bn (BatchNormalizatio (None, None, None, 6 256         conv_dw_2[0][0]                  \n",
      "__________________________________________________________________________________________________\n",
      "conv_dw_2_relu (ReLU)           (None, None, None, 6 0           conv_dw_2_bn[0][0]               \n",
      "__________________________________________________________________________________________________\n",
      "conv_pw_2 (Conv2D)              (None, None, None, 1 8192        conv_dw_2_relu[0][0]             \n",
      "__________________________________________________________________________________________________\n",
      "conv_pw_2_bn (BatchNormalizatio (None, None, None, 1 512         conv_pw_2[0][0]                  \n",
      "__________________________________________________________________________________________________\n",
      "conv_pw_2_relu (ReLU)           (None, None, None, 1 0           conv_pw_2_bn[0][0]               \n",
      "__________________________________________________________________________________________________\n",
      "conv_dw_3 (DepthwiseConv2D)     (None, None, None, 1 1152        conv_pw_2_relu[0][0]             \n",
      "__________________________________________________________________________________________________\n",
      "conv_dw_3_bn (BatchNormalizatio (None, None, None, 1 512         conv_dw_3[0][0]                  \n",
      "__________________________________________________________________________________________________\n",
      "conv_dw_3_relu (ReLU)           (None, None, None, 1 0           conv_dw_3_bn[0][0]               \n",
      "__________________________________________________________________________________________________\n",
      "conv_pw_3 (Conv2D)              (None, None, None, 1 16384       conv_dw_3_relu[0][0]             \n",
      "__________________________________________________________________________________________________\n",
      "conv_pw_3_bn (BatchNormalizatio (None, None, None, 1 512         conv_pw_3[0][0]                  \n",
      "__________________________________________________________________________________________________\n",
      "conv_pw_3_relu (ReLU)           (None, None, None, 1 0           conv_pw_3_bn[0][0]               \n",
      "__________________________________________________________________________________________________\n",
      "conv_pad_4 (ZeroPadding2D)      (None, None, None, 1 0           conv_pw_3_relu[0][0]             \n",
      "__________________________________________________________________________________________________\n",
      "conv_dw_4 (DepthwiseConv2D)     (None, None, None, 1 1152        conv_pad_4[0][0]                 \n",
      "__________________________________________________________________________________________________\n",
      "conv_dw_4_bn (BatchNormalizatio (None, None, None, 1 512         conv_dw_4[0][0]                  \n",
      "__________________________________________________________________________________________________\n",
      "conv_dw_4_relu (ReLU)           (None, None, None, 1 0           conv_dw_4_bn[0][0]               \n",
      "__________________________________________________________________________________________________\n",
      "conv_pw_4 (Conv2D)              (None, None, None, 2 32768       conv_dw_4_relu[0][0]             \n",
      "__________________________________________________________________________________________________\n",
      "conv_pw_4_bn (BatchNormalizatio (None, None, None, 2 1024        conv_pw_4[0][0]                  \n",
      "__________________________________________________________________________________________________\n",
      "conv_pw_4_relu (ReLU)           (None, None, None, 2 0           conv_pw_4_bn[0][0]               \n",
      "__________________________________________________________________________________________________\n",
      "conv_dw_5 (DepthwiseConv2D)     (None, None, None, 2 2304        conv_pw_4_relu[0][0]             \n",
      "__________________________________________________________________________________________________\n",
      "conv_dw_5_bn (BatchNormalizatio (None, None, None, 2 1024        conv_dw_5[0][0]                  \n",
      "__________________________________________________________________________________________________\n",
      "conv_dw_5_relu (ReLU)           (None, None, None, 2 0           conv_dw_5_bn[0][0]               \n",
      "__________________________________________________________________________________________________\n",
      "conv_pw_5 (Conv2D)              (None, None, None, 2 65536       conv_dw_5_relu[0][0]             \n",
      "__________________________________________________________________________________________________\n",
      "conv_pw_5_bn (BatchNormalizatio (None, None, None, 2 1024        conv_pw_5[0][0]                  \n",
      "__________________________________________________________________________________________________\n",
      "conv_pw_5_relu (ReLU)           (None, None, None, 2 0           conv_pw_5_bn[0][0]               \n",
      "__________________________________________________________________________________________________\n",
      "conv_pad_6 (ZeroPadding2D)      (None, None, None, 2 0           conv_pw_5_relu[0][0]             \n",
      "__________________________________________________________________________________________________\n",
      "conv_dw_6 (DepthwiseConv2D)     (None, None, None, 2 2304        conv_pad_6[0][0]                 \n",
      "__________________________________________________________________________________________________\n",
      "conv_dw_6_bn (BatchNormalizatio (None, None, None, 2 1024        conv_dw_6[0][0]                  \n",
      "__________________________________________________________________________________________________\n",
      "conv_dw_6_relu (ReLU)           (None, None, None, 2 0           conv_dw_6_bn[0][0]               \n",
      "__________________________________________________________________________________________________\n",
      "conv_pw_6 (Conv2D)              (None, None, None, 5 131072      conv_dw_6_relu[0][0]             \n",
      "__________________________________________________________________________________________________\n",
      "conv_pw_6_bn (BatchNormalizatio (None, None, None, 5 2048        conv_pw_6[0][0]                  \n",
      "__________________________________________________________________________________________________\n",
      "conv_pw_6_relu (ReLU)           (None, None, None, 5 0           conv_pw_6_bn[0][0]               \n",
      "__________________________________________________________________________________________________\n",
      "conv_dw_7 (DepthwiseConv2D)     (None, None, None, 5 4608        conv_pw_6_relu[0][0]             \n",
      "__________________________________________________________________________________________________\n",
      "conv_dw_7_bn (BatchNormalizatio (None, None, None, 5 2048        conv_dw_7[0][0]                  \n",
      "__________________________________________________________________________________________________\n",
      "conv_dw_7_relu (ReLU)           (None, None, None, 5 0           conv_dw_7_bn[0][0]               \n",
      "__________________________________________________________________________________________________\n",
      "conv_pw_7 (Conv2D)              (None, None, None, 5 262144      conv_dw_7_relu[0][0]             \n",
      "__________________________________________________________________________________________________\n",
      "conv_pw_7_bn (BatchNormalizatio (None, None, None, 5 2048        conv_pw_7[0][0]                  \n",
      "__________________________________________________________________________________________________\n",
      "conv_pw_7_relu (ReLU)           (None, None, None, 5 0           conv_pw_7_bn[0][0]               \n",
      "__________________________________________________________________________________________________\n",
      "conv_dw_8 (DepthwiseConv2D)     (None, None, None, 5 4608        conv_pw_7_relu[0][0]             \n",
      "__________________________________________________________________________________________________\n",
      "conv_dw_8_bn (BatchNormalizatio (None, None, None, 5 2048        conv_dw_8[0][0]                  \n",
      "__________________________________________________________________________________________________\n",
      "conv_dw_8_relu (ReLU)           (None, None, None, 5 0           conv_dw_8_bn[0][0]               \n",
      "__________________________________________________________________________________________________\n",
      "conv_pw_8 (Conv2D)              (None, None, None, 5 262144      conv_dw_8_relu[0][0]             \n",
      "__________________________________________________________________________________________________\n",
      "conv_pw_8_bn (BatchNormalizatio (None, None, None, 5 2048        conv_pw_8[0][0]                  \n",
      "__________________________________________________________________________________________________\n",
      "conv_pw_8_relu (ReLU)           (None, None, None, 5 0           conv_pw_8_bn[0][0]               \n",
      "__________________________________________________________________________________________________\n",
      "conv_dw_9 (DepthwiseConv2D)     (None, None, None, 5 4608        conv_pw_8_relu[0][0]             \n",
      "__________________________________________________________________________________________________\n",
      "conv_dw_9_bn (BatchNormalizatio (None, None, None, 5 2048        conv_dw_9[0][0]                  \n",
      "__________________________________________________________________________________________________\n",
      "conv_dw_9_relu (ReLU)           (None, None, None, 5 0           conv_dw_9_bn[0][0]               \n",
      "__________________________________________________________________________________________________\n"
     ]
    },
    {
     "name": "stdout",
     "output_type": "stream",
     "text": [
      "conv_pw_9 (Conv2D)              (None, None, None, 5 262144      conv_dw_9_relu[0][0]             \r\n",
      "__________________________________________________________________________________________________\r\n",
      "conv_pw_9_bn (BatchNormalizatio (None, None, None, 5 2048        conv_pw_9[0][0]                  \r\n",
      "__________________________________________________________________________________________________\r\n",
      "conv_pw_9_relu (ReLU)           (None, None, None, 5 0           conv_pw_9_bn[0][0]               \r\n",
      "__________________________________________________________________________________________________\r\n",
      "conv_dw_10 (DepthwiseConv2D)    (None, None, None, 5 4608        conv_pw_9_relu[0][0]             \r\n",
      "__________________________________________________________________________________________________\r\n",
      "conv_dw_10_bn (BatchNormalizati (None, None, None, 5 2048        conv_dw_10[0][0]                 \r\n",
      "__________________________________________________________________________________________________\r\n",
      "conv_dw_10_relu (ReLU)          (None, None, None, 5 0           conv_dw_10_bn[0][0]              \r\n",
      "__________________________________________________________________________________________________\r\n",
      "conv_pw_10 (Conv2D)             (None, None, None, 5 262144      conv_dw_10_relu[0][0]            \r\n",
      "__________________________________________________________________________________________________\r\n",
      "conv_pw_10_bn (BatchNormalizati (None, None, None, 5 2048        conv_pw_10[0][0]                 \r\n",
      "__________________________________________________________________________________________________\r\n",
      "conv_pw_10_relu (ReLU)          (None, None, None, 5 0           conv_pw_10_bn[0][0]              \r\n",
      "__________________________________________________________________________________________________\r\n",
      "conv_dw_11 (DepthwiseConv2D)    (None, None, None, 5 4608        conv_pw_10_relu[0][0]            \r\n",
      "__________________________________________________________________________________________________\r\n",
      "conv_dw_11_bn (BatchNormalizati (None, None, None, 5 2048        conv_dw_11[0][0]                 \r\n",
      "__________________________________________________________________________________________________\r\n",
      "conv_dw_11_relu (ReLU)          (None, None, None, 5 0           conv_dw_11_bn[0][0]              \r\n",
      "__________________________________________________________________________________________________\r\n",
      "conv_pw_11 (Conv2D)             (None, None, None, 5 262144      conv_dw_11_relu[0][0]            \r\n",
      "__________________________________________________________________________________________________\r\n",
      "conv_pw_11_bn (BatchNormalizati (None, None, None, 5 2048        conv_pw_11[0][0]                 \r\n",
      "__________________________________________________________________________________________________\r\n",
      "conv_pw_11_relu (ReLU)          (None, None, None, 5 0           conv_pw_11_bn[0][0]              \r\n",
      "__________________________________________________________________________________________________\r\n",
      "conv_pad_12 (ZeroPadding2D)     (None, None, None, 5 0           conv_pw_11_relu[0][0]            \r\n",
      "__________________________________________________________________________________________________\r\n",
      "conv_dw_12 (DepthwiseConv2D)    (None, None, None, 5 4608        conv_pad_12[0][0]                \r\n",
      "__________________________________________________________________________________________________\r\n",
      "conv_dw_12_bn (BatchNormalizati (None, None, None, 5 2048        conv_dw_12[0][0]                 \r\n",
      "__________________________________________________________________________________________________\r\n",
      "conv_dw_12_relu (ReLU)          (None, None, None, 5 0           conv_dw_12_bn[0][0]              \r\n",
      "__________________________________________________________________________________________________\r\n",
      "conv_pw_12 (Conv2D)             (None, None, None, 1 524288      conv_dw_12_relu[0][0]            \r\n",
      "__________________________________________________________________________________________________\r\n",
      "conv_pw_12_bn (BatchNormalizati (None, None, None, 1 4096        conv_pw_12[0][0]                 \r\n",
      "__________________________________________________________________________________________________\r\n",
      "conv_pw_12_relu (ReLU)          (None, None, None, 1 0           conv_pw_12_bn[0][0]              \r\n",
      "__________________________________________________________________________________________________\r\n",
      "conv_dw_13 (DepthwiseConv2D)    (None, None, None, 1 9216        conv_pw_12_relu[0][0]            \r\n",
      "__________________________________________________________________________________________________\r\n",
      "conv_dw_13_bn (BatchNormalizati (None, None, None, 1 4096        conv_dw_13[0][0]                 \r\n",
      "__________________________________________________________________________________________________\r\n",
      "conv_dw_13_relu (ReLU)          (None, None, None, 1 0           conv_dw_13_bn[0][0]              \r\n",
      "__________________________________________________________________________________________________\r\n",
      "conv_pw_13 (Conv2D)             (None, None, None, 1 1048576     conv_dw_13_relu[0][0]            \r\n",
      "__________________________________________________________________________________________________\r\n",
      "conv_pw_13_bn (BatchNormalizati (None, None, None, 1 4096        conv_pw_13[0][0]                 \r\n",
      "__________________________________________________________________________________________________\r\n",
      "conv_pw_13_relu (ReLU)          (None, None, None, 1 0           conv_pw_13_bn[0][0]              \r\n",
      "__________________________________________________________________________________________________\r\n",
      "C5_reduced (Conv2D)             (None, None, None, 2 262400      conv_pw_13_relu[0][0]            \r\n",
      "__________________________________________________________________________________________________\r\n",
      "P5_upsampled (UpsampleLike)     (None, None, None, 2 0           C5_reduced[0][0]                 \r\n",
      "                                                                 conv_pw_11_relu[0][0]            \r\n",
      "__________________________________________________________________________________________________\r\n",
      "C4_reduced (Conv2D)             (None, None, None, 2 131328      conv_pw_11_relu[0][0]            \r\n",
      "__________________________________________________________________________________________________\r\n",
      "P4_merged (Add)                 (None, None, None, 2 0           P5_upsampled[0][0]               \r\n",
      "                                                                 C4_reduced[0][0]                 \r\n",
      "__________________________________________________________________________________________________\r\n",
      "P4_upsampled (UpsampleLike)     (None, None, None, 2 0           P4_merged[0][0]                  \r\n",
      "                                                                 conv_pw_5_relu[0][0]             \r\n",
      "__________________________________________________________________________________________________\r\n",
      "C3_reduced (Conv2D)             (None, None, None, 2 65792       conv_pw_5_relu[0][0]             \r\n",
      "__________________________________________________________________________________________________\r\n",
      "P6 (Conv2D)                     (None, None, None, 2 2359552     conv_pw_13_relu[0][0]            \r\n",
      "__________________________________________________________________________________________________\r\n",
      "P3_merged (Add)                 (None, None, None, 2 0           P4_upsampled[0][0]               \r\n",
      "                                                                 C3_reduced[0][0]                 \r\n",
      "__________________________________________________________________________________________________\r\n",
      "C6_relu (Activation)            (None, None, None, 2 0           P6[0][0]                         \r\n",
      "__________________________________________________________________________________________________\r\n",
      "P3 (Conv2D)                     (None, None, None, 2 590080      P3_merged[0][0]                  \r\n",
      "__________________________________________________________________________________________________\r\n",
      "P4 (Conv2D)                     (None, None, None, 2 590080      P4_merged[0][0]                  \r\n",
      "__________________________________________________________________________________________________\r\n",
      "P5 (Conv2D)                     (None, None, None, 2 590080      C5_reduced[0][0]                 \r\n",
      "__________________________________________________________________________________________________\r\n",
      "P7 (Conv2D)                     (None, None, None, 2 590080      C6_relu[0][0]                    \r\n",
      "__________________________________________________________________________________________________\r\n",
      "regression_submodel (Model)     (None, None, 4)      2443300     P3[0][0]                         \r\n",
      "                                                                 P4[0][0]                         \r\n",
      "                                                                 P5[0][0]                         \r\n",
      "                                                                 P6[0][0]                         \r\n",
      "                                                                 P7[0][0]                         \r\n",
      "__________________________________________________________________________________________________\r\n",
      "classification_submodel (Model) (None, None, 6)      2484790     P3[0][0]                         \r\n",
      "                                                                 P4[0][0]                         \r\n",
      "                                                                 P5[0][0]                         \r\n",
      "                                                                 P6[0][0]                         \r\n",
      "                                                                 P7[0][0]                         \r\n",
      "__________________________________________________________________________________________________\r\n",
      "regression (Concatenate)        (None, None, 4)      0           regression_submodel[1][0]        \r\n",
      "                                                                 regression_submodel[2][0]        \r\n",
      "                                                                 regression_submodel[3][0]        \r\n",
      "                                                                 regression_submodel[4][0]        \r\n",
      "                                                                 regression_submodel[5][0]        \r\n",
      "__________________________________________________________________________________________________\r\n",
      "classification (Concatenate)    (None, None, 6)      0           classification_submodel[1][0]    \r\n",
      "                                                                 classification_submodel[2][0]    \r\n",
      "                                                                 classification_submodel[3][0]    \r\n",
      "                                                                 classification_submodel[4][0]    \r\n",
      "                                                                 classification_submodel[5][0]    \r\n",
      "==================================================================================================\r\n",
      "Total params: 13,336,346\r\n",
      "Trainable params: 13,314,458\r\n",
      "Non-trainable params: 21,888\r\n",
      "__________________________________________________________________________________________________\r\n",
      "None\r\n"
     ]
    },
    {
     "name": "stdout",
     "output_type": "stream",
     "text": [
      "W0808 17:17:12.315682 140605350999872 deprecation_wrapper.py:119] From /home/nishon/anaconda3/envs/tf_gpu-2/lib/python3.7/site-packages/keras/callbacks.py:850: The name tf.summary.merge_all is deprecated. Please use tf.compat.v1.summary.merge_all instead.\n",
      "\n",
      "W0808 17:17:12.315881 140605350999872 deprecation_wrapper.py:119] From /home/nishon/anaconda3/envs/tf_gpu-2/lib/python3.7/site-packages/keras/callbacks.py:853: The name tf.summary.FileWriter is deprecated. Please use tf.compat.v1.summary.FileWriter instead.\n",
      "\n",
      "Epoch 1/50\n",
      "2019-08-08 17:17:17.753079: W tensorflow/core/framework/op_kernel.cc:1502] OP_REQUIRES failed at gather_nd_op.cc:47 : Invalid argument: indices[185999] = [0, 188734] does not index into param shape [1,184653,6]\n",
      "Traceback (most recent call last):\n",
      "  File \"aerial_pedestrian_detection/keras_retinanet/bin/train.py\", line 509, in <module>\n",
      "    main()\n",
      "  File \"aerial_pedestrian_detection/keras_retinanet/bin/train.py\", line 504, in main\n",
      "    max_queue_size=args.max_queue_size\n",
      "  File \"/home/nishon/anaconda3/envs/tf_gpu-2/lib/python3.7/site-packages/keras/legacy/interfaces.py\", line 91, in wrapper\n",
      "    return func(*args, **kwargs)\n",
      "  File \"/home/nishon/anaconda3/envs/tf_gpu-2/lib/python3.7/site-packages/keras/engine/training.py\", line 1418, in fit_generator\n",
      "    initial_epoch=initial_epoch)\n",
      "  File \"/home/nishon/anaconda3/envs/tf_gpu-2/lib/python3.7/site-packages/keras/engine/training_generator.py\", line 217, in fit_generator\n",
      "    class_weight=class_weight)\n",
      "  File \"/home/nishon/anaconda3/envs/tf_gpu-2/lib/python3.7/site-packages/keras/engine/training.py\", line 1217, in train_on_batch\n",
      "    outputs = self.train_function(ins)\n",
      "  File \"/home/nishon/anaconda3/envs/tf_gpu-2/lib/python3.7/site-packages/keras/backend/tensorflow_backend.py\", line 2715, in __call__\n",
      "    return self._call(inputs)\n",
      "  File \"/home/nishon/anaconda3/envs/tf_gpu-2/lib/python3.7/site-packages/keras/backend/tensorflow_backend.py\", line 2675, in _call\n",
      "    fetched = self._callable_fn(*array_vals)\n",
      "  File \"/home/nishon/anaconda3/envs/tf_gpu-2/lib/python3.7/site-packages/tensorflow/python/client/session.py\", line 1458, in __call__\n",
      "    run_metadata_ptr)\n",
      "tensorflow.python.framework.errors_impl.InvalidArgumentError: indices[185999] = [0, 188734] does not index into param shape [1,184653,6]\n",
      "\t [[{{node loss/classification_loss/GatherNd_1}}]]\n"
     ]
    }
   ],
   "source": [
    "!aerial_pedestrian_detection/keras_retinanet/bin/train.py --weights 'resnet50_coco_best_v2.1.0.h5'  csv 'data/train.csv' 'data/labels.csv' --val-annotations 'data/val.csv' "
   ]
  },
  {
   "cell_type": "markdown",
   "metadata": {},
   "source": [
    "# Data conversion for TensorFlow"
   ]
  },
  {
   "cell_type": "code",
   "execution_count": null,
   "metadata": {},
   "outputs": [],
   "source": []
  }
 ],
 "metadata": {
  "kernelspec": {
   "display_name": "detect-and-track",
   "language": "python",
   "name": "detect-and-track"
  },
  "language_info": {
   "codemirror_mode": {
    "name": "ipython",
    "version": 3
   },
   "file_extension": ".py",
   "mimetype": "text/x-python",
   "name": "python",
   "nbconvert_exporter": "python",
   "pygments_lexer": "ipython3",
   "version": "3.7.4"
  }
 },
 "nbformat": 4,
 "nbformat_minor": 2
}
