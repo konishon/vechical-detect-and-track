{
 "cells": [
  {
   "cell_type": "code",
   "execution_count": 1,
   "metadata": {},
   "outputs": [
    {
     "data": {
      "text/plain": [
       "'/home/srijana/fresh1'"
      ]
     },
     "execution_count": 1,
     "metadata": {},
     "output_type": "execute_result"
    }
   ],
   "source": [
    "import pandas as pd\n",
    "from itertools import islice\n",
    "from string import digits\n",
    "import matplotlib.pyplot as plt\n",
    "import numpy as np\n",
    "import os\n",
    "os.getcwd()"
   ]
  },
  {
   "cell_type": "code",
   "execution_count": 2,
   "metadata": {},
   "outputs": [
    {
     "name": "stdout",
     "output_type": "stream",
     "text": [
      "DJI_0004_gt.txt\n",
      "image/{0}_{1}.jpg\n"
     ]
    }
   ],
   "source": [
    "video_name = \"DJI_0004\"\n",
    "path_to_data = '{0}_gt.txt'.format(video_name)\n",
    "formatted_image_name = \"image/{0}_{1}.jpg\";\n",
    "\n",
    "print(path_to_data)\n",
    "print(formatted_image_name)"
   ]
  },
  {
   "cell_type": "code",
   "execution_count": 3,
   "metadata": {},
   "outputs": [],
   "source": [
    "remove_digits = str.maketrans('', '', digits)\n",
    "## breaks a long list into list of provided chucks(size)\n",
    "def chunk(it, size):\n",
    "    it = iter(it)\n",
    "    return iter(lambda: tuple(islice(it, size)), ())"
   ]
  },
  {
   "cell_type": "code",
   "execution_count": 4,
   "metadata": {},
   "outputs": [],
   "source": [
    "def xywh_to_xyxy(xywh):\n",
    "    \"\"\"Convert [x1 y1 w h] box format to [x1 y1 x2 y2] format.\"\"\"\n",
    "    if isinstance(xywh, (list, tuple)):\n",
    "        # Single box given as a list of coordinates\n",
    "        assert len(xywh) == 4\n",
    "        x1, y1 = xywh[0], xywh[1]\n",
    "        x2 = x1 + np.maximum(0., xywh[2] - 1.)\n",
    "        y2 = y1 + np.maximum(0., xywh[3] - 1.)\n",
    "        return (x1, y1, x2, y2)\n",
    "    elif isinstance(xywh, np.ndarray):\n",
    "        # Multiple boxes given as a 2D ndarray\n",
    "        return np.hstack(\n",
    "            (xywh[:, 0:2], xywh[:, 0:2] + np.maximum(0, xywh[:, 2:4] - 1))\n",
    "        )\n",
    "    else:\n",
    "        raise TypeError('Argument xywh must be a list, tuple, or numpy array.')\n",
    "\n"
   ]
  },
  {
   "cell_type": "code",
   "execution_count": 5,
   "metadata": {},
   "outputs": [
    {
     "name": "stdout",
     "output_type": "stream",
     "text": [
      "AxesSubplot(0.125,0.125;0.775x0.755)\n"
     ]
    },
    {
     "data": {
      "text/plain": [
       "Index(['file_path', 'x1', 'y1', 'x2', 'y2', 'label'], dtype='object')"
      ]
     },
     "execution_count": 5,
     "metadata": {},
     "output_type": "execute_result"
    },
    {
     "data": {
      "image/png": "[encoded data removed]",
      "text/plain": [
       "<Figure size 432x288 with 1 Axes>"
      ]
     },
     "metadata": {
      "needs_background": "light"
     },
     "output_type": "display_data"
    }
   ],
   "source": [
    "df = []\n",
    "with open(\"annoted/DJI_0004_gt.txt\", 'r') as f:\n",
    "    for line in f:\n",
    "        a_list = line.split(',')\n",
    "        chunked = list(chunk(a_list[2:], 5))\n",
    "        for item in chunked:\n",
    "            (x1,y1,x2,y2) = xywh_to_xyxy([int(item[0]),int(item[1]),int(item[2]),int(item[3])])\n",
    "        \n",
    "            df.append({\n",
    "                'file_path':formatted_image_name.format(video_name,a_list[0]),\n",
    "                'x1':int(x1),\n",
    "                'y1':int(y1),\n",
    "                'x2':int(x2),\n",
    "                'y2':int(y2),\n",
    "                'label': item[4].strip().translate(remove_digits)\n",
    "                      })\n",
    "            \n",
    "            \n",
    "df = pd.DataFrame(df) \n",
    "\n",
    "\n",
    "#plot\n",
    "print(pd.value_counts(df['label']).plot.bar())\n",
    "len(df.groupby('file_path'))\n",
    "df.columns\n"
   ]
  },
  {
   "cell_type": "code",
   "execution_count": 6,
   "metadata": {},
   "outputs": [
    {
     "data": {
      "text/html": [
       "<div>\n",
       "<style scoped>\n",
       "    .dataframe tbody tr th:only-of-type {\n",
       "        vertical-align: middle;\n",
       "    }\n",
       "\n",
       "    .dataframe tbody tr th {\n",
       "        vertical-align: top;\n",
       "    }\n",
       "\n",
       "    .dataframe thead th {\n",
       "        text-align: right;\n",
       "    }\n",
       "</style>\n",
       "<table border=\"1\" class=\"dataframe\">\n",
       "  <thead>\n",
       "    <tr style=\"text-align: right;\">\n",
       "      <th></th>\n",
       "      <th>file_path</th>\n",
       "      <th>x1</th>\n",
       "      <th>y1</th>\n",
       "      <th>x2</th>\n",
       "      <th>y2</th>\n",
       "    </tr>\n",
       "    <tr>\n",
       "      <th>label</th>\n",
       "      <th></th>\n",
       "      <th></th>\n",
       "      <th></th>\n",
       "      <th></th>\n",
       "      <th></th>\n",
       "    </tr>\n",
       "  </thead>\n",
       "  <tbody>\n",
       "    <tr>\n",
       "      <th>Bike</th>\n",
       "      <td>True</td>\n",
       "      <td>False</td>\n",
       "      <td>False</td>\n",
       "      <td>True</td>\n",
       "      <td>True</td>\n",
       "    </tr>\n",
       "    <tr>\n",
       "      <th>Bus</th>\n",
       "      <td>True</td>\n",
       "      <td>False</td>\n",
       "      <td>True</td>\n",
       "      <td>True</td>\n",
       "      <td>True</td>\n",
       "    </tr>\n",
       "    <tr>\n",
       "      <th>Car</th>\n",
       "      <td>True</td>\n",
       "      <td>False</td>\n",
       "      <td>False</td>\n",
       "      <td>True</td>\n",
       "      <td>True</td>\n",
       "    </tr>\n",
       "    <tr>\n",
       "      <th>MiniTruck</th>\n",
       "      <td>True</td>\n",
       "      <td>True</td>\n",
       "      <td>False</td>\n",
       "      <td>True</td>\n",
       "      <td>True</td>\n",
       "    </tr>\n",
       "    <tr>\n",
       "      <th>Tempo</th>\n",
       "      <td>True</td>\n",
       "      <td>True</td>\n",
       "      <td>False</td>\n",
       "      <td>True</td>\n",
       "      <td>True</td>\n",
       "    </tr>\n",
       "    <tr>\n",
       "      <th>Truck</th>\n",
       "      <td>True</td>\n",
       "      <td>True</td>\n",
       "      <td>True</td>\n",
       "      <td>True</td>\n",
       "      <td>True</td>\n",
       "    </tr>\n",
       "  </tbody>\n",
       "</table>\n",
       "</div>"
      ],
      "text/plain": [
       "           file_path     x1     y1    x2    y2\n",
       "label                                         \n",
       "Bike            True  False  False  True  True\n",
       "Bus             True  False   True  True  True\n",
       "Car             True  False  False  True  True\n",
       "MiniTruck       True   True  False  True  True\n",
       "Tempo           True   True  False  True  True\n",
       "Truck           True   True   True  True  True"
      ]
     },
     "execution_count": 6,
     "metadata": {},
     "output_type": "execute_result"
    }
   ],
   "source": [
    "classes = df.groupby('label')\n",
    "classes.all()"
   ]
  },
  {
   "cell_type": "code",
   "execution_count": 7,
   "metadata": {},
   "outputs": [
    {
     "name": "stdout",
     "output_type": "stream",
     "text": [
      "Duplicate Rows except first occurrence based on all columns are :\n",
      "                     file_path    x1   y1    x2   y2 label\n",
      "24270  image/DJI_0004_1322.jpg  1045  434  1078  474  Bike\n"
     ]
    }
   ],
   "source": [
    "duplicate_rows = df[df.duplicated()]\n",
    " \n",
    "print(\"Duplicate Rows except first occurrence based on all columns are :\")\n",
    "print(duplicate_rows)"
   ]
  },
  {
   "cell_type": "code",
   "execution_count": 8,
   "metadata": {},
   "outputs": [],
   "source": [
    "import cv2"
   ]
  },
  {
   "cell_type": "code",
   "execution_count": 9,
   "metadata": {},
   "outputs": [],
   "source": [
    "def get_frame_no(file_name):\n",
    "    return file_name.split(\"-\")[1].split(\".\")[0]"
   ]
  },
  {
   "cell_type": "code",
   "execution_count": 10,
   "metadata": {},
   "outputs": [
    {
     "name": "stdout",
     "output_type": "stream",
     "text": [
      "2550\n",
      "file_path    image/DJI_0004_30.jpg\n",
      "x1                            1778\n",
      "y1                             368\n",
      "x2                            1826\n",
      "y2                             409\n",
      "label                         Bike\n",
      "Name: 2550, dtype: object\n",
      "image/DJI_0004_30.jpg\n"
     ]
    }
   ],
   "source": [
    "from random import randrange\n",
    "random_index = randrange(len(df))\n",
    "image_path = df.iloc[random_index]['file_path']\n",
    "\n",
    "print(random_index)\n",
    "print(df.iloc[random_index])\n",
    "print(image_path)"
   ]
  },
  {
   "cell_type": "code",
   "execution_count": 11,
   "metadata": {},
   "outputs": [
    {
     "name": "stdout",
     "output_type": "stream",
     "text": [
      "159\n"
     ]
    }
   ],
   "source": [
    "df_to_plot = df[df.file_path==image_path]\n",
    "df_to_plot.groupby('label')\n",
    "print(len(df_to_plot))"
   ]
  },
  {
   "cell_type": "code",
   "execution_count": 12,
   "metadata": {},
   "outputs": [
    {
     "name": "stdout",
     "output_type": "stream",
     "text": [
      "Requirement already satisfied: sklearn in /home/srijana/.virtualenvs/fresh1/lib/python3.7/site-packages (0.0)\n",
      "Requirement already satisfied: scikit-learn in /home/srijana/.virtualenvs/fresh1/lib/python3.7/site-packages (from sklearn) (0.21.3)\n",
      "Requirement already satisfied: numpy>=1.11.0 in /home/srijana/.virtualenvs/fresh1/lib/python3.7/site-packages (from scikit-learn->sklearn) (1.17.0)\n",
      "Requirement already satisfied: scipy>=0.17.0 in /home/srijana/.virtualenvs/fresh1/lib/python3.7/site-packages (from scikit-learn->sklearn) (1.3.0)\n",
      "Requirement already satisfied: joblib>=0.11 in /home/srijana/.virtualenvs/fresh1/lib/python3.7/site-packages (from scikit-learn->sklearn) (0.13.2)\n"
     ]
    }
   ],
   "source": [
    "!pip install sklearn"
   ]
  },
  {
   "cell_type": "code",
   "execution_count": 13,
   "metadata": {},
   "outputs": [],
   "source": [
    "cv2.namedWindow('image', cv2.WINDOW_FULLSCREEN)\n",
    "img = cv2.imread(\"data/\"+image_path, 1)\n",
    "\n",
    "for row in df_to_plot.itertuples():\n",
    "    cv2.rectangle(img, (int(row.x1), int(row.y1)), (int(row.x2), int(row.y2)), (255, 0, 0), 2)\n",
    "\n",
    "# cv2.imshow('image', img)\n",
    "# cv2.waitKey(0)\n",
    "# cv2.destroyAllWindows()\n"
   ]
  },
  {
   "cell_type": "code",
   "execution_count": 14,
   "metadata": {},
   "outputs": [
    {
     "name": "stdout",
     "output_type": "stream",
     "text": [
      "15755\n",
      "21007\n",
      "5252\n"
     ]
    }
   ],
   "source": [
    "from sklearn.model_selection import train_test_split\n",
    "\n",
    "train, test = train_test_split(df, test_size=0.4,random_state=1)\n",
    "test,val = train_test_split(df,test_size=0.2)\n",
    "\n",
    "print(len(train))\n",
    "print(len(test))\n",
    "print(len(val))"
   ]
  },
  {
   "cell_type": "code",
   "execution_count": 15,
   "metadata": {},
   "outputs": [
    {
     "name": "stdout",
     "output_type": "stream",
     "text": [
      "AxesSubplot(0.125,0.125;0.775x0.755)\n",
      "Index(['file_path', 'x1', 'y1', 'x2', 'y2', 'label'], dtype='object')\n"
     ]
    },
    {
     "data": {
      "image/png": "[encoded data removed]",
      "text/plain": [
       "<Figure size 432x288 with 1 Axes>"
      ]
     },
     "metadata": {
      "needs_background": "light"
     },
     "output_type": "display_data"
    }
   ],
   "source": [
    "print(pd.value_counts(train['label']).plot.bar())\n",
    "print(train.columns)"
   ]
  },
  {
   "cell_type": "code",
   "execution_count": 16,
   "metadata": {},
   "outputs": [
    {
     "name": "stdout",
     "output_type": "stream",
     "text": [
      "AxesSubplot(0.125,0.125;0.775x0.755)\n"
     ]
    },
    {
     "data": {
      "image/png": "[encoded data removed]",
      "text/plain": [
       "<Figure size 432x288 with 1 Axes>"
      ]
     },
     "metadata": {
      "needs_background": "light"
     },
     "output_type": "display_data"
    }
   ],
   "source": [
    "print(pd.value_counts(test['label']).plot.bar())\n"
   ]
  },
  {
   "cell_type": "code",
   "execution_count": 17,
   "metadata": {},
   "outputs": [
    {
     "name": "stdout",
     "output_type": "stream",
     "text": [
      "AxesSubplot(0.125,0.125;0.775x0.755)\n"
     ]
    },
    {
     "data": {
      "image/png": "[encoded data removed]",
      "text/plain": [
       "<Figure size 432x288 with 1 Axes>"
      ]
     },
     "metadata": {
      "needs_background": "light"
     },
     "output_type": "display_data"
    }
   ],
   "source": [
    "print(pd.value_counts(val['label']).plot.bar())\n"
   ]
  },
  {
   "cell_type": "code",
   "execution_count": 18,
   "metadata": {},
   "outputs": [],
   "source": [
    "def rearrange(df):\n",
    "    return df.reindex(columns=['file_path', 'x1', 'y1', 'x2', 'y2', 'label'])"
   ]
  },
  {
   "cell_type": "code",
   "execution_count": 19,
   "metadata": {},
   "outputs": [],
   "source": [
    "rearrange(train).to_csv(\"new/train.csv\",header=False,index=False)\n",
    "rearrange(train).to_csv(\"new/test.csv\",header=False,index=False)\n",
    "rearrange(train).to_csv(\"new/val.csv\",header=False,index=False)"
   ]
  },
  {
   "cell_type": "code",
   "execution_count": 20,
   "metadata": {},
   "outputs": [
    {
     "name": "stdout",
     "output_type": "stream",
     "text": [
      "       image/DJI_0001_219.jpg   544  816   620  870  MiniTruck\n",
      "0      image/DJI_0001_183.jpg  1590  536  1626  574       Bike\n",
      "1      image/DJI_0001_250.jpg  1699  188  1793  255  MiniTruck\n",
      "2      image/DJI_0001_204.jpg   969  444  1020  481      Tempo\n",
      "3      image/DJI_0001_152.jpg  1571  382  1627  445        Car\n",
      "4      image/DJI_0001_173.jpg   691  543   736  592      Tempo\n",
      "...                       ...   ...  ...   ...  ...        ...\n",
      "43216  image/DJI_0001_191.jpg  1114  267  1176  320        Car\n",
      "43217   image/DJI_0001_85.jpg   301  767   342  806       Bike\n",
      "43218   image/DJI_0001_88.jpg  1423   46  1479   89       Bike\n",
      "43219  image/DJI_0001_195.jpg  1580  556  1616  598       Bike\n",
      "43220   image/DJI_0001_27.jpg   372  286   409  317       Bike\n",
      "\n",
      "[43221 rows x 6 columns]\n"
     ]
    }
   ],
   "source": [
    "df2 = pd.read_csv('new/1/train.csv')\n",
    "print(df2)"
   ]
  },
  {
   "cell_type": "code",
   "execution_count": 21,
   "metadata": {},
   "outputs": [
    {
     "name": "stdout",
     "output_type": "stream",
     "text": [
      "          image/DJI_0003_0.jpg   352    0   381   25   Bike\n",
      "0         image/DJI_0003_0.jpg   340    0   365   24   Bike\n",
      "1         image/DJI_0003_0.jpg   331    2   363   32   Bike\n",
      "2         image/DJI_0003_0.jpg   314    0   346   35   Bike\n",
      "3         image/DJI_0003_0.jpg   281    0   315   35   Bike\n",
      "4         image/DJI_0003_0.jpg   550  261   583  294   Bike\n",
      "...                        ...   ...  ...   ...  ...    ...\n",
      "16543  image/DJI_0003_5813.jpg  1566  461  1620  510  Tempo\n",
      "16544  image/DJI_0003_5813.jpg  1207  752  1254  807  Tempo\n",
      "16545  image/DJI_0003_5813.jpg   596  115   641  157  Tempo\n",
      "16546  image/DJI_0003_5813.jpg   712   14   758   60    Car\n",
      "16547  image/DJI_0003_5813.jpg   670   18   731  133    Bus\n",
      "\n",
      "[16548 rows x 6 columns]\n"
     ]
    }
   ],
   "source": [
    "df3 = pd.read_csv('new/3n2trai/result2.csv')\n",
    "print(df3)"
   ]
  },
  {
   "cell_type": "code",
   "execution_count": 22,
   "metadata": {},
   "outputs": [],
   "source": [
    "frames = [df2, df3]\n",
    "result5 = pd.concat(frames, axis=1, join_axes=None,\n",
    "    ignore_index=True,\n",
    "    keys=None,\n",
    "    levels=None,\n",
    "    names=None,\n",
    "    verify_integrity=False,\n",
    "    \n",
    "    copy=True, sort=False)"
   ]
  },
  {
   "cell_type": "code",
   "execution_count": 23,
   "metadata": {},
   "outputs": [],
   "source": [
    "df.to_csv(\"result5.csv\")\n",
    "df = pd.read_csv('result5.csv')"
   ]
  },
  {
   "cell_type": "code",
   "execution_count": 24,
   "metadata": {},
   "outputs": [],
   "source": [
    "def rearrange(df):\n",
    "    return df.reindex(columns=['file_path', 'x1', 'y1', 'x2', 'y2', 'label'])"
   ]
  },
  {
   "cell_type": "code",
   "execution_count": 25,
   "metadata": {},
   "outputs": [],
   "source": [
    "rearrange(train).to_csv(\"result44.csv\",header=False,index=False)"
   ]
  },
  {
   "cell_type": "code",
   "execution_count": 26,
   "metadata": {},
   "outputs": [
    {
     "name": "stdout",
     "output_type": "stream",
     "text": [
      "         image/DJI_0004_42.jpg  1713   513  1751   549   Bike\n",
      "0        image/DJI_0004_63.jpg   800   203   840   243   Bike\n",
      "1      image/DJI_0004_1326.jpg   228   782   282   826  Tempo\n",
      "2      image/DJI_0004_1261.jpg  1576   386  1628   436   Bike\n",
      "3      image/DJI_0004_1236.jpg   241   937   304   988    Car\n",
      "4      image/DJI_0004_1445.jpg   286   727   333   769  Tempo\n",
      "...                        ...   ...   ...   ...   ...    ...\n",
      "15749   image/DJI_0004_318.jpg  1023   821  1067   861   Bike\n",
      "15750  image/DJI_0004_1252.jpg   756   244   796   291   Bike\n",
      "15751    image/DJI_0004_47.jpg   947   129   980   175   Bike\n",
      "15752   image/DJI_0004_374.jpg   223   981   281  1040   Bike\n",
      "15753     image/DJI_0004_2.jpg  1381  1055  1417  1078   Bike\n",
      "\n",
      "[15754 rows x 6 columns]\n"
     ]
    }
   ],
   "source": [
    "df3 = pd.read_csv('result45.csv')\n",
    "print(df3)"
   ]
  },
  {
   "cell_type": "code",
   "execution_count": 27,
   "metadata": {},
   "outputs": [
    {
     "name": "stdout",
     "output_type": "stream",
     "text": [
      "         image/DJI_0004_42.jpg  1713   513  1751   549   Bike\n",
      "0        image/DJI_0004_63.jpg   800   203   840   243   Bike\n",
      "1      image/DJI_0004_1326.jpg   228   782   282   826  Tempo\n",
      "2      image/DJI_0004_1261.jpg  1576   386  1628   436   Bike\n",
      "3      image/DJI_0004_1236.jpg   241   937   304   988    Car\n",
      "4      image/DJI_0004_1445.jpg   286   727   333   769  Tempo\n",
      "...                        ...   ...   ...   ...   ...    ...\n",
      "15749   image/DJI_0004_318.jpg  1023   821  1067   861   Bike\n",
      "15750  image/DJI_0004_1252.jpg   756   244   796   291   Bike\n",
      "15751    image/DJI_0004_47.jpg   947   129   980   175   Bike\n",
      "15752   image/DJI_0004_374.jpg   223   981   281  1040   Bike\n",
      "15753     image/DJI_0004_2.jpg  1381  1055  1417  1078   Bike\n",
      "\n",
      "[15754 rows x 6 columns]\n"
     ]
    }
   ],
   "source": [
    "df3 = pd.read_csv('result46.csv')\n",
    "print(df3)"
   ]
  },
  {
   "cell_type": "code",
   "execution_count": 28,
   "metadata": {},
   "outputs": [],
   "source": [
    "frames = [df2, df3]\n",
    "result8 = pd.concat(frames, axis=1, join_axes=None,\n",
    "    ignore_index=True,\n",
    "    keys=None,\n",
    "    levels=None,\n",
    "    names=None,\n",
    "    verify_integrity=False,\n",
    "    \n",
    "    copy=True, sort=False)"
   ]
  },
  {
   "cell_type": "code",
   "execution_count": 29,
   "metadata": {},
   "outputs": [],
   "source": [
    "df.to_csv(\"result8.csv\")\n",
    "df = pd.read_csv('result8.csv')"
   ]
  },
  {
   "cell_type": "code",
   "execution_count": 30,
   "metadata": {},
   "outputs": [],
   "source": [
    "def rearrange(df):\n",
    "    return df.reindex(columns=['file_path', 'x1', 'y1', 'x2', 'y2', 'label'])"
   ]
  },
  {
   "cell_type": "code",
   "execution_count": 31,
   "metadata": {},
   "outputs": [],
   "source": [
    "rearrange(train).to_csv(\"final.csv\",header=False,index=False)"
   ]
  }
 ],
 "metadata": {
  "kernelspec": {
   "display_name": "Python 3",
   "language": "python",
   "name": "python3"
  },
  "language_info": {
   "codemirror_mode": {
    "name": "ipython",
    "version": 3
   },
   "file_extension": ".py",
   "mimetype": "text/x-python",
   "name": "python",
   "nbconvert_exporter": "python",
   "pygments_lexer": "ipython3",
   "version": "3.7.3"
  }
 },
 "nbformat": 4,
 "nbformat_minor": 2
}
